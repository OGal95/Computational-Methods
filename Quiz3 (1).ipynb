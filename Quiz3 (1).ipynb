{
 "cells": [
  {
   "cell_type": "code",
   "execution_count": 10,
   "id": "1baa642a-163c-4436-9cd9-c327eff82e60",
   "metadata": {},
   "outputs": [
    {
     "name": "stdout",
     "output_type": "stream",
     "text": [
      "0\n"
     ]
    }
   ],
   "source": [
    "## question 1\n",
    "from math import *\n",
    "\n",
    "x = [0,-5,5,-4]\n",
    "n = len(x)\n",
    "prod = 1\n",
    "for i in range(0,n):\n",
    "    prod*=x[i]\n",
    "print(prod)"
   ]
  },
  {
   "cell_type": "code",
   "execution_count": 1,
   "id": "348acf64-8a7e-4f6c-80f9-dbb27a3012e3",
   "metadata": {},
   "outputs": [
    {
     "name": "stdout",
     "output_type": "stream",
     "text": [
      "4\n"
     ]
    }
   ],
   "source": [
    "# Question 6 on Final\n",
    "\n",
    "from math import *\n",
    "x = [-1,3,0]\n",
    "sum = 0\n",
    "for i in range(0,len(x)):\n",
    "    sum+=x[i]**i\n",
    "print(sum)"
   ]
  },
  {
   "cell_type": "code",
   "execution_count": 9,
   "id": "e993d70e-bdc4-4753-9778-b922e16b801f",
   "metadata": {},
   "outputs": [
    {
     "name": "stdout",
     "output_type": "stream",
     "text": [
      "-5\n"
     ]
    }
   ],
   "source": [
    "# Question 3\n",
    "\n",
    "x = [-1,5,-1,-1]\n",
    "n = len(x)\n",
    "prod = 1\n",
    "for i in range(0,n):\n",
    "    prod *= x[i]\n",
    "print(prod)"
   ]
  },
  {
   "cell_type": "code",
   "execution_count": 4,
   "id": "5e9f10e7-2849-450b-8176-e684657d2b54",
   "metadata": {},
   "outputs": [
    {
     "name": "stdout",
     "output_type": "stream",
     "text": [
      "729\n"
     ]
    }
   ],
   "source": [
    "# Question4\n",
    "\n",
    "    \n",
    "n = 4\n",
    "prod = 1\n",
    "for i in range(1,n+1):\n",
    "    prod*=-3**(i-1)\n",
    "print(prod)"
   ]
  },
  {
   "cell_type": "code",
   "execution_count": 2,
   "id": "476028f8-c272-41d9-a3f8-92c5d94ef6fc",
   "metadata": {},
   "outputs": [
    {
     "name": "stdout",
     "output_type": "stream",
     "text": [
      "0\n"
     ]
    }
   ],
   "source": [
    "# Question 7 on FINAL\n",
    "\n",
    "x = [0,5,2]\n",
    "y = [5,-4,-1]\n",
    "n = len(x)\n",
    "sum1 = 0\n",
    "for i in range(0,n):\n",
    "    sum2 = 0\n",
    "    for j in range(0,n):\n",
    "        sum2+=x[i]*y[j]\n",
    "    sum1+=sum2\n",
    "print(sum1)"
   ]
  },
  {
   "cell_type": "code",
   "execution_count": 12,
   "id": "329af74b-6ef7-4400-a46d-2ecc40f65945",
   "metadata": {},
   "outputs": [
    {
     "name": "stdout",
     "output_type": "stream",
     "text": [
      "-110\n"
     ]
    }
   ],
   "source": [
    "# Question 6\n",
    "from math import*\n",
    "x = [2,3,6]\n",
    "y = [1,4,6]\n",
    "z = 1\n",
    "n = len(y)\n",
    "sum = 0\n",
    "for i in range(0,n):\n",
    "    prod = 1\n",
    "    for j in range(0,n):\n",
    "        prod\n",
    "        prod*=(z-x[j])\n",
    "    sum+=y[i]*prod\n",
    "print(sum)"
   ]
  },
  {
   "cell_type": "code",
   "execution_count": 7,
   "id": "1b6db274-427b-4306-94ef-1626f0f9181c",
   "metadata": {},
   "outputs": [
    {
     "name": "stdout",
     "output_type": "stream",
     "text": [
      "0\n"
     ]
    }
   ],
   "source": [
    "from math import*\n",
    "\n",
    "x = [-1,0]\n",
    "y = [3,3,-5]\n",
    "nx = len(x)\n",
    "ny = len(y)\n",
    "prod = 1\n",
    "for i in range(0,nx):\n",
    "    sum = 0\n",
    "    for j in range(0,ny):\n",
    "        sum+=y[j]\n",
    "    prod*=x[i]*sum\n",
    "print(prod)"
   ]
  },
  {
   "cell_type": "code",
   "execution_count": null,
   "id": "8c5d845e-afdd-4420-81d2-8d50cab53d83",
   "metadata": {},
   "outputs": [],
   "source": []
  }
 ],
 "metadata": {
  "kernelspec": {
   "display_name": "Python 3 (ipykernel)",
   "language": "python",
   "name": "python3"
  },
  "language_info": {
   "codemirror_mode": {
    "name": "ipython",
    "version": 3
   },
   "file_extension": ".py",
   "mimetype": "text/x-python",
   "name": "python",
   "nbconvert_exporter": "python",
   "pygments_lexer": "ipython3",
   "version": "3.9.5"
  }
 },
 "nbformat": 4,
 "nbformat_minor": 5
}
