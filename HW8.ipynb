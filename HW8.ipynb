{
 "cells": [
  {
   "cell_type": "markdown",
   "id": "4a4c8d29-42cd-400f-bafe-a4186f683bf0",
   "metadata": {},
   "source": [
    "# Oscar Galindo"
   ]
  },
  {
   "cell_type": "markdown",
   "id": "2006cc0b-1cf9-4e2d-9975-29a929ff6b36",
   "metadata": {},
   "source": [
    "# Homework 8"
   ]
  },
  {
   "cell_type": "markdown",
   "id": "7f51259e-a416-47b9-8b93-8b0e23503596",
   "metadata": {},
   "source": [
    "## SP1"
   ]
  },
  {
   "cell_type": "code",
   "execution_count": 3,
   "id": "d501500f-148d-4dbe-a0dc-e4189cf4cb46",
   "metadata": {},
   "outputs": [
    {
     "name": "stdin",
     "output_type": "stream",
     "text": [
      "How many indexs in matrix 4\n",
      "Input value for A1  7.2\n",
      "Input value for A2  -4.3\n",
      "Input value for A3  0.6\n",
      "Input value for A4  1.7\n",
      "Input value for B1  -11\n",
      "Input value for B2  11.8\n",
      "Input value for B3  2.4\n",
      "Input value for B4  -1.9\n"
     ]
    },
    {
     "name": "stdout",
     "output_type": "stream",
     "text": [
      "A matrix is [7.2, -4.3, 0.6, 1.7]\n",
      "B matrix is [-11.0, 11.8, 2.4, -1.9]\n",
      "A dot B is -131.73\n"
     ]
    }
   ],
   "source": [
    "# write code to perform a dot procut on two vectors with any number of dimensions. \n",
    "def DotProduct():\n",
    "    A = []\n",
    "    B = []\n",
    "    AB = 0\n",
    "    index = int(input(\"How many indexs in matrix\"))\n",
    "    for i in range(0, index):\n",
    "        A.append(float(input(f\"Input value for A{i+1} \")))\n",
    "    for i in range(0, index):\n",
    "        B.append(float(input(f\"Input value for B{i+1} \")))\n",
    "    print(f\"A matrix is {A}\")\n",
    "    print(f\"B matrix is {B}\")\n",
    "    for i in range(0, index):\n",
    "        AB += (A[i] * B[i])\n",
    "    print(f\"A dot B is {AB}\")\n",
    "    return\n",
    "DotProduct()"
   ]
  },
  {
   "cell_type": "markdown",
   "id": "be06f4c6-121b-41bf-92ea-d2f3ef757a44",
   "metadata": {},
   "source": [
    "## SP2"
   ]
  },
  {
   "cell_type": "code",
   "execution_count": 5,
   "id": "9bc3a781-308d-4c40-88a2-4b359f66a7e7",
   "metadata": {},
   "outputs": [
    {
     "name": "stdin",
     "output_type": "stream",
     "text": [
      "Input value for A00:  1\n",
      "Input value for A01:  3\n",
      "Input value for A02:  0\n",
      "Input value for A10:  2\n",
      "Input value for A11:  -1\n",
      "Input value for A12:  0\n",
      "Input value for A20:  3\n",
      "Input value for A21:  2\n",
      "Input value for A22:  0\n",
      "Input value for B00:  0\n",
      "Input value for B01:  0\n",
      "Input value for B02:  0\n",
      "Input value for B10:  0\n",
      "Input value for B11:  0\n",
      "Input value for B12:  0\n",
      "Input value for B20:  2\n",
      "Input value for B21:  5\n",
      "Input value for B22:  7\n"
     ]
    },
    {
     "name": "stdout",
     "output_type": "stream",
     "text": [
      "A matrix is\n",
      "[[ 1.  3.  0.]\n",
      " [ 2. -1.  0.]\n",
      " [ 3.  2.  0.]]\n",
      "B matrix is\n",
      "[[0. 0. 0.]\n",
      " [0. 0. 0.]\n",
      " [2. 5. 7.]]\n",
      "Cross Vector is\n",
      "[[  0.   0.   0.]\n",
      " [ -0.   0.   0.]\n",
      " [ 14. -21.  11.]]\n"
     ]
    }
   ],
   "source": [
    "#Write code to perform a vector cross product. Write to work for three dimensions.\n",
    "import numpy as np\n",
    "def cross_product_3x3():\n",
    "    dimension = 3\n",
    "    A = np.empty([dimension, dimension])\n",
    "    B = np.empty([dimension, dimension])\n",
    "    for i in range(0, dimension):\n",
    "        for j in range(0, dimension):\n",
    "            A[i][j]=float(input(f\"Input value for A{i}{j}: \"))\n",
    "    for i in range(0, dimension):\n",
    "        for j in range(0, dimension):\n",
    "            B[i][j]=float(input(f\"Input value for B{i}{j}: \"))\n",
    "    print(f\"A matrix is\\n{A}\")\n",
    "    print(f\"B matrix is\\n{B}\")\n",
    "    print(f\"Cross Vector is\\n{np.cross(A,B)}\")\n",
    "    return\n",
    "cross_product_3x3()"
   ]
  },
  {
   "cell_type": "markdown",
   "id": "bb9d5b1f-ac70-4115-8412-4c7c056b3109",
   "metadata": {},
   "source": [
    "## SP3"
   ]
  },
  {
   "cell_type": "code",
   "execution_count": 6,
   "id": "17540ad1-b00a-4579-9e2b-c8c04a1a72da",
   "metadata": {},
   "outputs": [
    {
     "name": "stdin",
     "output_type": "stream",
     "text": [
      "How many Rows in matrix A  3\n",
      "How many Columns in matrix A  3\n",
      "How many Rows in matrix B  3\n",
      "How many Columns in matrix B  3\n",
      "Input value for A11  1\n",
      "Input value for A12  3\n",
      "Input value for A13  0\n",
      "Input value for A21  2\n",
      "Input value for A22  -1\n",
      "Input value for A23  0\n",
      "Input value for A31  3\n",
      "Input value for A32  2\n",
      "Input value for A33  0\n",
      "Input value for B11  0\n",
      "Input value for B12  0\n",
      "Input value for B13  0\n",
      "Input value for B21  0\n",
      "Input value for B22  0\n",
      "Input value for B23  0\n",
      "Input value for B31  2\n",
      "Input value for B32  5\n",
      "Input value for B33  7\n"
     ]
    },
    {
     "name": "stdout",
     "output_type": "stream",
     "text": [
      "A matrix is\n",
      "[[ 1.  3.  0.]\n",
      " [ 2. -1.  0.]\n",
      " [ 3.  2.  0.]]\n",
      "B matrix is\n",
      "[[0. 0. 0.]\n",
      " [0. 0. 0.]\n",
      " [2. 5. 7.]]\n",
      "A multiplied by B is\n",
      "[[0. 0. 0.]\n",
      " [0. 0. 0.]\n",
      " [0. 0. 0.]] \n"
     ]
    }
   ],
   "source": [
    "#Write code toperform matrix multiplication. Note the matrices may be any number of dimensions(as long as you can actually multiply them).\n",
    "import numpy as np\n",
    "def matrix_multi():\n",
    "    Arows= int(input(\"How many Rows in matrix A \"))\n",
    "    Acols= int(input(\"How many Columns in matrix A \"))\n",
    "    Brows= int(input(\"How many Rows in matrix B \"))\n",
    "    Bcols= int(input(\"How many Columns in matrix B \"))\n",
    "    A = np.empty([Arows, Acols])\n",
    "    B = np.empty([Brows, Bcols])\n",
    "    AB = np.empty([Arows, Bcols])\n",
    "    for i in range(0, Arows):\n",
    "        for j in range(0, Acols):\n",
    "            A[i][j] = ((float(input(f\"Input value for A{i+1}{j+1} \"))))\n",
    "    for i in range(0, Brows):\n",
    "        for j in range(0, Bcols):\n",
    "            B[i][j] = ((float(input(f\"Input value for B{i+1}{j+1} \"))))\n",
    "    print(f\"A matrix is\\n{A}\")\n",
    "    print(f\"B matrix is\\n{B}\")\n",
    "    for i in range(0, Arows):\n",
    "        for j in range(0, Bcols):\n",
    "            sum = 0\n",
    "            for k in range(0, Bcols):\n",
    "                sum += (A[i][k])*(B[k][j])\n",
    "            AB[i][j] = (sum)\n",
    "    print(f\"A multiplied by B is\\n{AB} \")\n",
    "    return\n",
    "matrix_multi()"
   ]
  },
  {
   "cell_type": "markdown",
   "id": "a832bbb1-8374-430e-8e68-7d2b4a49474d",
   "metadata": {},
   "source": [
    "## SP4"
   ]
  },
  {
   "cell_type": "code",
   "execution_count": 7,
   "id": "c33e9e1e-8f81-49c6-8bff-336a5b7b9f3d",
   "metadata": {},
   "outputs": [
    {
     "name": "stdin",
     "output_type": "stream",
     "text": [
      "How many Rows in matrix A  3\n",
      "How many Columns in matrix A  3\n",
      "How many Rows in matrix B  3\n",
      "How many Columns in matrix B  1\n",
      "Input value for A11  1\n",
      "Input value for A12  2\n",
      "Input value for A13  3\n",
      "Input value for A21  3\n",
      "Input value for A22  1\n",
      "Input value for A23  -3\n",
      "Input value for A31  -3\n",
      "Input value for A32  4\n",
      "Input value for A33  7\n",
      "Input value for B11  -5\n",
      "Input value for B21  4\n",
      "Input value for B31  -7\n"
     ]
    },
    {
     "name": "stdout",
     "output_type": "stream",
     "text": [
      "A matrix is\n",
      "[[ 1.  2.  3.]\n",
      " [ 3.  1. -3.]\n",
      " [-3.  4.  7.]]\n",
      "B matrix is\n",
      "[[-5.]\n",
      " [ 4.]\n",
      " [-7.]]\n",
      "X = [0.96774194]\n",
      "Y= [-7.80645161]\n",
      "Z= [-4.32258065]\n"
     ]
    }
   ],
   "source": [
    "#Write code to perform Cramer's Rule for a 3x3 matrix problem.\n",
    "\n",
    "import numpy as np\n",
    "\n",
    "def cramers_rule():\n",
    "    Arows= int(input(\"How many Rows in matrix A \"))\n",
    "    Acols= int(input(\"How many Columns in matrix A \"))\n",
    "    Brows= int(input(\"How many Rows in matrix B \"))\n",
    "    Bcols= int(input(\"How many Columns in matrix B \"))\n",
    "    A = np.empty([Arows, Acols])\n",
    "    B = np.empty([Brows, Bcols])\n",
    "    AB = np.empty([Arows, Bcols])\n",
    "    for i in range(0, Arows):\n",
    "        for j in range(0, Acols):\n",
    "            A[i][j] = ((float(input(f\"Input value for A{i+1}{j+1} \"))))\n",
    "    for i in range(0, Brows):\n",
    "        for j in range(0, Bcols):\n",
    "            B[i][j] = ((float(input(f\"Input value for B{i+1}{j+1} \"))))\n",
    "    print(f\"A matrix is\\n{A}\")\n",
    "    print(f\"B matrix is\\n{B}\")\n",
    "    D = ((A[0][0]*A[1][1]*A[2][2]) + (A[0][1]*A[1][2]*A[2][0]) + (A[0][2]*A[1][0]*A[1][0]))-((A[0][0]*A[1][2]*A[2][1]) + (A[0][1]*A[1][0]*A[2][2]) + (A[0][2]*A[1][1]*A[2][0]))\n",
    "    Dx = ((B[0]*A[1][1]*A[2][2]) + (A[0][1]*A[1][2]* B[2]) + (A[0][2]*B[1]*A[2][1])- (B[0]*A[1][2]*A[2][1]) + (A[0][1]*B[1]*A[2][2]) + (A[0][2]*A[1][1] *B[2]))\n",
    "    Dy = ((A[0][0]*B[1]*A[2][2]) + (B[0]*A[1][2]*A[2][0]) + (A[0][2]*A[1][0]*B[2])- (A[0][0]*A[1][2]*B[2]) + (B[0]*A[1][0]*A[2][2]) + (A[0][2]*B[1]*A[2][0]))\n",
    "    Dz = ((A[0][0]*A[1][1]*B[2]) + (A[0][1]*B[1]*A[2][0]) + (B[0]*A[1][0]*A[2][1])- (A[0][0]*B[1]*A[2][1]) + (A[0][1]*A[1][0]*B[2]) + (B[0]*A[1][1]*A[2][0]))\n",
    "    X = Dx/D\n",
    "    Y = Dy/D\n",
    "    Z = Dz/D\n",
    "    print(f\"X = {X}\\nY= {Y}\\nZ= {Z}\")\n",
    "    return\n",
    "cramers_rule()"
   ]
  },
  {
   "cell_type": "markdown",
   "id": "8f4d0891-a3bf-4589-abce-7479e50d546a",
   "metadata": {},
   "source": [
    "## SP5"
   ]
  },
  {
   "cell_type": "code",
   "execution_count": 8,
   "id": "b28fca15-b409-4174-9969-fd16c8cfca51",
   "metadata": {},
   "outputs": [
    {
     "data": {
      "text/plain": [
       "array([ 3, -1, -2])"
      ]
     },
     "execution_count": 8,
     "metadata": {},
     "output_type": "execute_result"
    }
   ],
   "source": [
    "#Write code to perform back substitution. Note use examples form teh lecture notes to test your code.\n",
    "\n",
    "import numpy as np\n",
    "\n",
    "A = np.array([[1,-3,1], [2,-8,8], [-6,3,-15]])\n",
    "B = np.array([4,-2,9])\n",
    "import numpy as np\n",
    "def gauss_elimin(A,B):\n",
    "    n = len(B)\n",
    "    for i in range(0, n-1):\n",
    "        for j in range(i+1,n):\n",
    "            if A[j,i] != 0.0:\n",
    "                k = A[j,i]/A[i,i]\n",
    "                A[j, i+1:n] = A[j, i+1:n] - k*A[i,i+1:n]\n",
    "                B[j] = B[j] - k*B[i]\n",
    "    for k in range(n-1,-1,-1):\n",
    "        B[k] = (B[k] - np.dot(A[k, k+1:n], B[k+1:n]))/A[k,k]\n",
    "    return B\n",
    "gauss_elimin(A,B)"
   ]
  },
  {
   "cell_type": "markdown",
   "id": "937faad1-d15b-4142-8bbe-754b3d10eada",
   "metadata": {},
   "source": [
    "## SP6"
   ]
  },
  {
   "cell_type": "code",
   "execution_count": 9,
   "id": "90204756-3f5a-4705-8241-032d5749137c",
   "metadata": {},
   "outputs": [
    {
     "name": "stdin",
     "output_type": "stream",
     "text": [
      "How many Rows in matrix A  1\n",
      "How many Columns in matrix A  2\n",
      "How many Rows in matrix B  1\n",
      "How many Columns in matrix B  2\n",
      "Input value for A11  7.2\n",
      "Input value for A12  -4.3\n",
      "Input value for B11  -11.0\n",
      "Input value for B12  11.8\n"
     ]
    },
    {
     "name": "stdout",
     "output_type": "stream",
     "text": [
      "A matrix is\n",
      "[[ 7.2 -4.3]]\n",
      "B matrix is\n",
      "[[-11.   11.8]]\n",
      "A + B is\n",
      "[[-3.8  7.5]]\n",
      "A - B is\n",
      "[[ 18.2 -16.1]]\n"
     ]
    }
   ],
   "source": [
    "#Write code to perform addition and subtraction for two matrices. Demonstate that your code works with a problem from Hw7.\n",
    "\n",
    "def add_subtract():\n",
    "    Arows= int(input(\"How many Rows in matrix A \"))\n",
    "    Acols= int(input(\"How many Columns in matrix A \"))\n",
    "    Brows= int(input(\"How many Rows in matrix B \"))\n",
    "    Bcols= int(input(\"How many Columns in matrix B \"))\n",
    "    A = np.empty([Arows, Acols])\n",
    "    B = np.empty([Brows, Bcols])\n",
    "    AB = np.empty([Arows, Bcols])\n",
    "    for i in range(0, Arows):\n",
    "        for j in range(0, Acols):\n",
    "            A[i][j] = ((float(input(f\"Input value for A{i+1}{j+1} \"))))\n",
    "    for i in range(0, Brows):\n",
    "        for j in range(0, Bcols):\n",
    "            B[i][j] = ((float(input(f\"Input value for B{i+1}{j+1} \"))))\n",
    "    print(f\"A matrix is\\n{A}\")\n",
    "    print(f\"B matrix is\\n{B}\")\n",
    "    print(f\"A + B is\\n{A+B}\")\n",
    "    print(f\"A - B is\\n{A-B}\")\n",
    "    return\n",
    "\n",
    "add_subtract()"
   ]
  },
  {
   "cell_type": "code",
   "execution_count": null,
   "id": "e4b9e1b6-aa88-44b5-8880-296c85ecc766",
   "metadata": {},
   "outputs": [],
   "source": []
  }
 ],
 "metadata": {
  "kernelspec": {
   "display_name": "Python 3 (ipykernel)",
   "language": "python",
   "name": "python3"
  },
  "language_info": {
   "codemirror_mode": {
    "name": "ipython",
    "version": 3
   },
   "file_extension": ".py",
   "mimetype": "text/x-python",
   "name": "python",
   "nbconvert_exporter": "python",
   "pygments_lexer": "ipython3",
   "version": "3.9.5"
  }
 },
 "nbformat": 4,
 "nbformat_minor": 5
}
