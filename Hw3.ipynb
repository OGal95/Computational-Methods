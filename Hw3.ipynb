{
 "cells": [
  {
   "cell_type": "markdown",
   "id": "b072cd6c-b9c6-4af5-8164-419bcdf61c60",
   "metadata": {},
   "source": [
    "# Homework 3"
   ]
  },
  {
   "cell_type": "markdown",
   "id": "ff3b7ea2-0bbe-44e9-a20f-a022dce1d175",
   "metadata": {},
   "source": [
    "## Problem 3"
   ]
  },
  {
   "cell_type": "code",
   "execution_count": 9,
   "id": "382998cb-3ac2-4fc7-bafb-76268d4cef5a",
   "metadata": {},
   "outputs": [
    {
     "name": "stdout",
     "output_type": "stream",
     "text": [
      "the area of my_triangle w/ base of 1 and height of 1 is 0.50\n",
      "the area of my_triangle w/ base of 2 and height of 1 is 1.00\n",
      "the area of my_triangle w/ base of 12 and height of 5 is 30.00\n"
     ]
    }
   ],
   "source": [
    "# write a function my_triangle(b,h)\n",
    "\n",
    "def my_triangle(b,h):\n",
    "    area=(1/2)*b*h           # area of triangle half of the base times the height\n",
    "    return area\n",
    "\n",
    "print(f\"the area of my_triangle w/ base of 1 and height of 1 is {my_triangle(1,1):.2f}\")\n",
    "print(f\"the area of my_triangle w/ base of 2 and height of 1 is {my_triangle(2,1):.2f}\")\n",
    "print(f\"the area of my_triangle w/ base of 12 and height of 5 is {my_triangle(12,5):.2f}\")    "
   ]
  },
  {
   "cell_type": "markdown",
   "id": "6c9f8157-1386-4da3-8ce6-159d1fccf651",
   "metadata": {},
   "source": [
    "## Problem 5"
   ]
  },
  {
   "cell_type": "code",
   "execution_count": 6,
   "id": "0297c29e-f2ec-44d7-8dad-fb82237cedd4",
   "metadata": {},
   "outputs": [
    {
     "name": "stdout",
     "output_type": "stream",
     "text": [
      "Surface area of the cylinder is 17.279\n",
      "Volume of the cylinder is 3.927\n"
     ]
    }
   ],
   "source": [
    "from math import*\n",
    "def area_surf_cyl(diameter,length):\n",
    "    # surface area = pi*d*l + 2*(pi/4)*d^2\n",
    "    area=pi*diameter*(length+(diameter/2))\n",
    "    surface= 2*pi*(diameter/2)+2*pi*(diameter/2)*length\n",
    "    volume= pi*(diameter/2)**2*length\n",
    "    return [surface,volume]\n",
    "area=area_surf_cyl(1,5)[0]\n",
    "volume=area_surf_cyl(1,5)[1]\n",
    "print(f\"Surface area of the cylinder is {area:.3f}\")\n",
    "print(f\"Volume of the cylinder is {volume:.3f}\")"
   ]
  },
  {
   "cell_type": "markdown",
   "id": "9d5c79ff-89b7-48c9-a33d-df5cc51e4ae8",
   "metadata": {},
   "source": [
    "## Problem 7"
   ]
  },
  {
   "cell_type": "code",
   "execution_count": 9,
   "id": "09e49a92-d90a-4552-a0f3-76b9eb727a97",
   "metadata": {},
   "outputs": [
    {
     "name": "stdout",
     "output_type": "stream",
     "text": [
      "[[2, 2], [2, 2], [2, 2]]\n",
      "[2, 2, 2, 2]\n"
     ]
    }
   ],
   "source": [
    "def my_twos(m,n):\n",
    "    rows, cols = (m,n)\n",
    "    if(rows==1):\n",
    "        print([2 for i in range(cols)])\n",
    "    else:\n",
    "        print([[2for i in range(cols)] for j in range(rows)])\n",
    "my_twos(3,2)\n",
    "my_twos(1,4)\n",
    "            "
   ]
  },
  {
   "cell_type": "markdown",
   "id": "257f5322-410b-4633-a494-684fac525264",
   "metadata": {},
   "source": [
    "## Problem 8"
   ]
  },
  {
   "cell_type": "code",
   "execution_count": 4,
   "id": "2a341e0b-9536-4672-8a76-4de34aa757fb",
   "metadata": {},
   "outputs": [
    {
     "name": "stdout",
     "output_type": "stream",
     "text": [
      "Subtraction of 12.5 and 13.5 is -1.000.\n",
      "\n"
     ]
    }
   ],
   "source": [
    "# write a function of lambda that takes input x and y, and the output is the best value of x-y.\n",
    "\n",
    "subtract = lambda x,y: x-y\n",
    "x=12.5\n",
    "y=13.5\n",
    "print(f\"Subtraction of {x} and {y} is {subtract(x,y):.3f}.\\n\")\n"
   ]
  },
  {
   "cell_type": "markdown",
   "id": "2c6ecf9f-4467-47fc-8d03-1865921c2288",
   "metadata": {},
   "source": [
    "## Problem 9"
   ]
  },
  {
   "cell_type": "code",
   "execution_count": 6,
   "id": "e2f065b2-2aa7-44b6-a6c2-57e0d34459e6",
   "metadata": {},
   "outputs": [
    {
     "data": {
      "text/plain": [
       "'Programing is fun!'"
      ]
     },
     "execution_count": 6,
     "metadata": {},
     "output_type": "execute_result"
    }
   ],
   "source": [
    "def add_string(s1,s2):\n",
    "    return(s1+s2)\n",
    "s1=add_string(\"Programing\",\" \")\n",
    "s2=add_string(\"is\",\" fun!\")\n",
    "\n",
    "add_string(s1,s2)"
   ]
  },
  {
   "cell_type": "markdown",
   "id": "46f6b0c5-5a3d-47b7-ba5c-9fb855bb230a",
   "metadata": {},
   "source": [
    "## Problem 12"
   ]
  },
  {
   "cell_type": "code",
   "execution_count": 10,
   "id": "b0edcac5-7567-47dd-985e-c0a493393248",
   "metadata": {},
   "outputs": [
    {
     "name": "stdout",
     "output_type": "stream",
     "text": [
      "[9.42477796076938, 37.69911184307752, 84.82300164692441]\n"
     ]
    }
   ],
   "source": [
    "from math import*\n",
    "import numpy as np\n",
    "def my_donut_area(a1,a2):\n",
    "    result=[]\n",
    "    for i in range(0,len(a1)):\n",
    "        r1=a1[i]\n",
    "        r2=a2[i]\n",
    "        area=(pi)*((r2**2)-(r1**2))\n",
    "        result.append(area)\n",
    "    return result\n",
    "print(my_donut_area(np.arange(1,4), np.arange(2,7,2)))"
   ]
  },
  {
   "cell_type": "markdown",
   "id": "2183bb67-7f92-4038-9902-f65428595dbc",
   "metadata": {},
   "source": [
    "## Problem 13"
   ]
  },
  {
   "cell_type": "code",
   "execution_count": 2,
   "id": "790b8d56-05e2-4dee-8362-8a8fa0cc1c19",
   "metadata": {},
   "outputs": [
    {
     "name": "stdout",
     "output_type": "stream",
     "text": [
      "[1, 2]\n",
      "[47, 48, 49, 50, 51, 52]\n"
     ]
    }
   ],
   "source": [
    "from math import*\n",
    "import numpy as np\n",
    "def my_within_tolerance(A,a,to1):\n",
    "    li=[]\n",
    "    for i in range(len(A)):\n",
    "        if(abs(A[i]-a)<to1):\n",
    "            li.append(i)\n",
    "    return li\n",
    "print(my_within_tolerance([0,1,2,3],1.5,0.75))\n",
    "print(my_within_tolerance(np.arange(0,1.01,0.01),0.5,0.03))"
   ]
  },
  {
   "cell_type": "code",
   "execution_count": null,
   "id": "927c49e2-bef4-4875-969c-34a0bc64f997",
   "metadata": {},
   "outputs": [],
   "source": []
  }
 ],
 "metadata": {
  "kernelspec": {
   "display_name": "Python 3 (ipykernel)",
   "language": "python",
   "name": "python3"
  },
  "language_info": {
   "codemirror_mode": {
    "name": "ipython",
    "version": 3
   },
   "file_extension": ".py",
   "mimetype": "text/x-python",
   "name": "python",
   "nbconvert_exporter": "python",
   "pygments_lexer": "ipython3",
   "version": "3.9.5"
  }
 },
 "nbformat": 4,
 "nbformat_minor": 5
}
