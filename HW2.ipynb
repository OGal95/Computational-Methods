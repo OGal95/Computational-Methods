{
 "cells": [
  {
   "cell_type": "markdown",
   "id": "b17839cd-af5f-4833-ace3-0c8412d2f4b6",
   "metadata": {},
   "source": [
    "# Homework 2"
   ]
  },
  {
   "cell_type": "markdown",
   "id": "20f0cdb2-4135-4947-9297-1c5ae89a645f",
   "metadata": {},
   "source": [
    "### Problems 3-25"
   ]
  },
  {
   "cell_type": "markdown",
   "id": "e7cf12ec-d687-4e07-88f0-3b7a584254d4",
   "metadata": {},
   "source": [
    "## Problem 3"
   ]
  },
  {
   "cell_type": "code",
   "execution_count": 25,
   "id": "35c18c38-262a-4527-a2b8-b73abcb1da98",
   "metadata": {},
   "outputs": [
    {
     "name": "stdout",
     "output_type": "stream",
     "text": [
      "x+y = 13\n",
      "x*y = 30\n",
      "x/y = 3.3333333333333335\n",
      "sin(x) = -0.5440211108893698\n",
      "8*sin(x) = -4.352168887114958\n",
      "5*sin(xy) = -4.940158120464309 \n",
      "x**y = 1000 \n"
     ]
    }
   ],
   "source": [
    "import math\n",
    "x=10\n",
    "y=3\n",
    "u= x+y\n",
    "v=x*y\n",
    "w=x/y\n",
    "Z=math.sin(x)\n",
    "r=8*math.sin(x)\n",
    "s=5*math.sin(x*y)\n",
    "p=x**y\n",
    "print(f\"x+y = {u}\")\n",
    "print(f\"x*y = {v}\")\n",
    "print(f\"x/y = {w}\")\n",
    "print(f\"sin(x) = {Z}\")\n",
    "print(f\"8*sin(x) = {r}\")\n",
    "print(f\"5*sin(xy) = {s} \")\n",
    "print(f\"x**y = {p} \")"
   ]
  },
  {
   "cell_type": "markdown",
   "id": "48784051-427b-4741-b457-34c9263d5383",
   "metadata": {},
   "source": [
    "## Problem 4"
   ]
  },
  {
   "cell_type": "code",
   "execution_count": 1,
   "id": "f87b78fe-b7d5-405e-9260-7352949394e4",
   "metadata": {},
   "outputs": [],
   "source": [
    "# show all the variables in the Jyputer Notebook after finishing problem 3.\n"
   ]
  },
  {
   "cell_type": "markdown",
   "id": "2aa781ce-7fd1-4fa4-ba69-24348255b5e6",
   "metadata": {},
   "source": [
    "## Problem 5"
   ]
  },
  {
   "cell_type": "code",
   "execution_count": 2,
   "id": "0a06a1b6-0aac-4557-a9e1-6e9864f29008",
   "metadata": {},
   "outputs": [
    {
     "name": "stdout",
     "output_type": "stream",
     "text": [
      "<class 'str'>\n",
      "<class 'float'>\n"
     ]
    }
   ],
   "source": [
    "S='123'        # variable called \"s\"\n",
    "N=float(S)     #convert S to a float type method\n",
    "print(type(S))\n",
    "print(type(N))"
   ]
  },
  {
   "cell_type": "markdown",
   "id": "a7718188-ede4-40e6-b741-e18c646665cc",
   "metadata": {},
   "source": [
    "## Problem 6"
   ]
  },
  {
   "cell_type": "code",
   "execution_count": 8,
   "id": "b4d6c82d-3e82-4e6f-af39-fe3010b1e91f",
   "metadata": {},
   "outputs": [
    {
     "name": "stdout",
     "output_type": "stream",
     "text": [
      "False\n",
      "True\n",
      "True\n"
     ]
    }
   ],
   "source": [
    "s1= 'HELLO'                     #variable 's1'\n",
    "s2= 'hello'                     #variable 's2'\n",
    "print((s1==s2))                 #check if s1 and s2 are equal or not using '==' operator\n",
    "print(s1.lower()==s2)           #use lower method on s1 then check again\n",
    "print(s1==s2.upper())           #use upper method on s2 then check again"
   ]
  },
  {
   "cell_type": "markdown",
   "id": "148ba033-b554-4155-a2a3-f82d2e4a43fa",
   "metadata": {},
   "source": [
    "## Problem 7"
   ]
  },
  {
   "cell_type": "code",
   "execution_count": 10,
   "id": "d5b94c44-cc84-4f6d-8480-27ce017fcf8d",
   "metadata": {},
   "outputs": [
    {
     "name": "stdout",
     "output_type": "stream",
     "text": [
      "the word 'Engineering' has 11 letter.\n",
      "the word 'Book' has 4 letter\n"
     ]
    }
   ],
   "source": [
    "#print strings\n",
    "print(\"the word 'Engineering' has 11 letter.\")\n",
    "print(\"the word 'Book' has 4 letter\")"
   ]
  },
  {
   "cell_type": "markdown",
   "id": "f589fd52-ce6e-4827-aab5-b49be5ab50bc",
   "metadata": {},
   "source": [
    "## Problem 8"
   ]
  },
  {
   "cell_type": "code",
   "execution_count": 26,
   "id": "1cedaefe-be8d-474e-a6aa-aeb09a45745e",
   "metadata": {},
   "outputs": [
    {
     "data": {
      "text/plain": [
       "'Python'"
      ]
     },
     "execution_count": 26,
     "metadata": {},
     "output_type": "execute_result"
    }
   ],
   "source": [
    "# chech \"Python\" is in \"python is great\"\n",
    "P=\"Python is great\"\n",
    "P[:6]\n"
   ]
  },
  {
   "cell_type": "markdown",
   "id": "0fe8b08c-4e30-4ce7-9c9a-dd365b9f99a4",
   "metadata": {},
   "source": [
    "## Problem 9"
   ]
  },
  {
   "cell_type": "code",
   "execution_count": 29,
   "id": "8843fcfa-a269-4d60-b912-e27b3f191960",
   "metadata": {},
   "outputs": [
    {
     "data": {
      "text/plain": [
       "'great'"
      ]
     },
     "execution_count": 29,
     "metadata": {},
     "output_type": "execute_result"
    }
   ],
   "source": [
    "#get the last word \"great\" from \"python is great\"\n",
    "P[10:]"
   ]
  },
  {
   "cell_type": "markdown",
   "id": "88d7588c-82aa-4ecb-bc9b-d821830778d8",
   "metadata": {},
   "source": [
    "## Problem 10"
   ]
  },
  {
   "cell_type": "code",
   "execution_count": 1,
   "id": "a8a9ab0d-58be-4da0-9969-7ef8c4cc9456",
   "metadata": {},
   "outputs": [
    {
     "name": "stdout",
     "output_type": "stream",
     "text": [
      "[1, 2, 8, 9, 15]\n",
      "[1, 2, 8, 9, 15, 4]\n"
     ]
    }
   ],
   "source": [
    "list_a=[1,8,9,15]                      # assign list elements[] to the variable called list_a\n",
    "list_a.insert(1,2)                     # use insert() method to insert the 2 at index no. 1\n",
    "print(list_a)                          # print the list\n",
    "list_a.append(4)                       # now, append 4 to the list\n",
    "print(list_a)                          # print new list"
   ]
  },
  {
   "cell_type": "markdown",
   "id": "c97744b7-b3c7-4168-9f1b-f74d727c0b33",
   "metadata": {},
   "source": [
    "## Problem 11"
   ]
  },
  {
   "cell_type": "code",
   "execution_count": 4,
   "id": "ade5763e-9380-404a-b847-710951f57649",
   "metadata": {},
   "outputs": [
    {
     "name": "stdout",
     "output_type": "stream",
     "text": [
      "[1, 2, 4, 8, 9, 15]\n"
     ]
    }
   ],
   "source": [
    "# sort list list_a from problem 10 in ascending order\n",
    "list_a.sort()\n",
    "print(list_a)"
   ]
  },
  {
   "cell_type": "markdown",
   "id": "ac8b85e0-8312-4341-a873-c2cfab8bdb51",
   "metadata": {},
   "source": [
    "## Problem 12"
   ]
  },
  {
   "cell_type": "code",
   "execution_count": 5,
   "id": "fdc0274a-eb6b-4c7b-85d7-40fec515b7e6",
   "metadata": {},
   "outputs": [],
   "source": [
    "# Turn \"Python is great\" into a list.\n"
   ]
  },
  {
   "cell_type": "markdown",
   "id": "a66d7fe3-8281-4188-a762-74e3af3e79c9",
   "metadata": {},
   "source": [
    "## Problem 13"
   ]
  },
  {
   "cell_type": "code",
   "execution_count": 6,
   "id": "b0986b98-8cad-4714-ab0c-5d18c8492121",
   "metadata": {},
   "outputs": [
    {
     "name": "stdout",
     "output_type": "stream",
     "text": [
      "('One', 1)\n"
     ]
    }
   ],
   "source": [
    "tuple_a=('One',1)               # tuple called 'tuple_a' created\n",
    "print(tuple_a)"
   ]
  },
  {
   "cell_type": "markdown",
   "id": "d9fd6de0-9160-4a95-aec6-60252341afdc",
   "metadata": {},
   "source": [
    "## Problem 14"
   ]
  },
  {
   "cell_type": "code",
   "execution_count": 9,
   "id": "9759d43d-c52d-49e4-a775-c96052a12f8b",
   "metadata": {},
   "outputs": [
    {
     "name": "stdout",
     "output_type": "stream",
     "text": [
      "1\n"
     ]
    }
   ],
   "source": [
    "print(tuple_a[1])                 # print 2nd element (index 1) of tuple_a from problem 13"
   ]
  },
  {
   "cell_type": "markdown",
   "id": "8ebec5e1-573c-45f9-a820-253ebac1020e",
   "metadata": {},
   "source": [
    "## Problem 15"
   ]
  },
  {
   "cell_type": "code",
   "execution_count": 10,
   "id": "9461bd0f-eb39-402b-9e28-86d16fd3cae3",
   "metadata": {},
   "outputs": [
    {
     "name": "stdout",
     "output_type": "stream",
     "text": [
      "{1, 2, 3, 5}\n"
     ]
    }
   ],
   "source": [
    "uniqueElsInSet= set((2,3,2,3,1,2,5))\n",
    "print(uniqueElsInSet)"
   ]
  },
  {
   "cell_type": "markdown",
   "id": "7d300de4-1291-4f38-a5a6-ff0d2806f4b1",
   "metadata": {},
   "source": [
    "## Problem 16"
   ]
  },
  {
   "cell_type": "code",
   "execution_count": 11,
   "id": "4a4ab8d7-0653-4ed8-88a6-fa0534d6cf1d",
   "metadata": {},
   "outputs": [
    {
     "name": "stdout",
     "output_type": "stream",
     "text": [
      "{1, 2, 3}\n",
      "{2, 3}\n",
      "{1}\n"
     ]
    }
   ],
   "source": [
    "set_a={2,3,2}\n",
    "set_b={1,2,3}\n",
    "print(set_a.union(set_b))              #print union of set_a and set_b\n",
    "print(set_a.intersection(set_b))       #print intersection of set_a and set_b\n",
    "print(set_b.difference(set_a))         #print difference of set_a and set_b"
   ]
  },
  {
   "cell_type": "markdown",
   "id": "9e140b75-b24f-4874-98c3-c687db5e04f5",
   "metadata": {},
   "source": [
    "## Problem 17"
   ]
  },
  {
   "cell_type": "code",
   "execution_count": 3,
   "id": "1b201ec1-d09a-4141-8673-104b7a058b32",
   "metadata": {},
   "outputs": [
    {
     "name": "stdout",
     "output_type": "stream",
     "text": [
      "abc\n"
     ]
    }
   ],
   "source": [
    "#dictionary\n",
    "dict_1=(\"A\" \"B\" \"C\")\n",
    "print(dict_1.lower())\n"
   ]
  },
  {
   "cell_type": "markdown",
   "id": "c26a3dda-3eb4-4a53-8a8b-5a3472a89355",
   "metadata": {},
   "source": [
    "## Problem 18"
   ]
  },
  {
   "cell_type": "code",
   "execution_count": null,
   "id": "05dbbd3a-bf84-4ade-a7a5-27529ba2c958",
   "metadata": {},
   "outputs": [],
   "source": [
    "\n"
   ]
  },
  {
   "cell_type": "markdown",
   "id": "6da1449c-32fd-4c0a-834a-62ffbc30d4e9",
   "metadata": {},
   "source": [
    "## Problem 19"
   ]
  },
  {
   "cell_type": "code",
   "execution_count": 24,
   "id": "7190e099-f5aa-4747-898e-ebe6c0525c4b",
   "metadata": {},
   "outputs": [
    {
     "ename": "TypeError",
     "evalue": "can't multiply sequence by non-int of type 'list'",
     "output_type": "error",
     "traceback": [
      "\u001b[0;31m---------------------------------------------------------------------------\u001b[0m",
      "\u001b[0;31mTypeError\u001b[0m                                 Traceback (most recent call last)",
      "\u001b[0;32m/tmp/ipykernel_9181/118169367.py\u001b[0m in \u001b[0;36m<module>\u001b[0;34m\u001b[0m\n\u001b[1;32m      3\u001b[0m \u001b[0my\u001b[0m\u001b[0;34m=\u001b[0m\u001b[0;34m[\u001b[0m\u001b[0;36m2\u001b[0m\u001b[0;34m,\u001b[0m\u001b[0;36m3\u001b[0m\u001b[0;34m,\u001b[0m\u001b[0;36m4\u001b[0m\u001b[0;34m,\u001b[0m\u001b[0;36m1\u001b[0m\u001b[0;34m,\u001b[0m\u001b[0;36m2\u001b[0m\u001b[0;34m,\u001b[0m\u001b[0;36m3\u001b[0m\u001b[0;34m]\u001b[0m\u001b[0;34m\u001b[0m\u001b[0;34m\u001b[0m\u001b[0m\n\u001b[1;32m      4\u001b[0m \u001b[0mu\u001b[0m\u001b[0;34m=\u001b[0m\u001b[0mx\u001b[0m\u001b[0;34m+\u001b[0m\u001b[0my\u001b[0m\u001b[0;34m\u001b[0m\u001b[0;34m\u001b[0m\u001b[0m\n\u001b[0;32m----> 5\u001b[0;31m \u001b[0mv\u001b[0m\u001b[0;34m=\u001b[0m\u001b[0mx\u001b[0m\u001b[0;34m*\u001b[0m\u001b[0my\u001b[0m\u001b[0;34m\u001b[0m\u001b[0;34m\u001b[0m\u001b[0m\n\u001b[0m\u001b[1;32m      6\u001b[0m \u001b[0mw\u001b[0m\u001b[0;34m=\u001b[0m\u001b[0mx\u001b[0m\u001b[0;34m/\u001b[0m\u001b[0my\u001b[0m\u001b[0;34m\u001b[0m\u001b[0;34m\u001b[0m\u001b[0m\n\u001b[1;32m      7\u001b[0m \u001b[0mz\u001b[0m\u001b[0;34m=\u001b[0m\u001b[0mmath\u001b[0m\u001b[0;34m.\u001b[0m\u001b[0msin\u001b[0m\u001b[0;34m(\u001b[0m\u001b[0mx\u001b[0m\u001b[0;34m)\u001b[0m\u001b[0;34m\u001b[0m\u001b[0;34m\u001b[0m\u001b[0m\n",
      "\u001b[0;31mTypeError\u001b[0m: can't multiply sequence by non-int of type 'list'"
     ]
    }
   ],
   "source": [
    "import math\n",
    "x=[1,4,3,2,0,3]\n",
    "y=[2,3,4,1,2,3]\n",
    "u=x+y\n",
    "v=x*y\n",
    "w=x/y\n",
    "z=math.sin(x)\n",
    "r=8*(math.sin(x))\n",
    "s=5*(math.sin(x*y))\n",
    "p=x**y\n",
    "array(x)\n"
   ]
  },
  {
   "cell_type": "code",
   "execution_count": null,
   "id": "f589d846-b8c5-4152-bf2a-10ac50bf32f5",
   "metadata": {},
   "outputs": [],
   "source": []
  }
 ],
 "metadata": {
  "kernelspec": {
   "display_name": "Python 3 (ipykernel)",
   "language": "python",
   "name": "python3"
  },
  "language_info": {
   "codemirror_mode": {
    "name": "ipython",
    "version": 3
   },
   "file_extension": ".py",
   "mimetype": "text/x-python",
   "name": "python",
   "nbconvert_exporter": "python",
   "pygments_lexer": "ipython3",
   "version": "3.9.5"
  },
  "toc-showcode": false
 },
 "nbformat": 4,
 "nbformat_minor": 5
}
