{
 "cells": [
  {
   "cell_type": "markdown",
   "id": "9f4cf721-6e3a-49b5-b0b7-96a6704e37ee",
   "metadata": {},
   "source": [
    "# Homework 9"
   ]
  },
  {
   "cell_type": "markdown",
   "id": "9db18540-3664-4f81-b39c-22f644844c00",
   "metadata": {},
   "source": [
    "## Oscar Galindo"
   ]
  },
  {
   "cell_type": "markdown",
   "id": "cc9f95e6-c4ca-4ecd-b1f9-4aaacb0dc43c",
   "metadata": {},
   "source": [
    "## SP4\n",
    "write a program that does forward elimination-use the naive method"
   ]
  },
  {
   "cell_type": "code",
   "execution_count": 4,
   "id": "3189d506-4739-4732-90f4-3a4f0c48af49",
   "metadata": {},
   "outputs": [
    {
     "name": "stdout",
     "output_type": "stream",
     "text": [
      "Answer for SP1\n",
      "A:\n",
      "[[ 2.  -2.   1. ]\n",
      " [ 6.  -1.  -3.5]\n",
      " [ 1.   0.   4. ]]\n",
      "B:\n",
      "[10. -1. 18.]\n",
      "\n",
      "Answer for SP2\n",
      "A:\n",
      "[[ 2  1 -1  2]\n",
      " [-1 -3  2 -6]\n",
      " [ 9  5 -7 11]\n",
      " [ 0  1  0 -3]]\n",
      "B:\n",
      "[ 0.  3. -6. 14.]\n"
     ]
    }
   ],
   "source": [
    "import numpy as np\n",
    "\n",
    "def forward_elim(A,B):\n",
    "    n = len(B)\n",
    "    for i in range(0,n):\n",
    "        for j in range(i+1, n):\n",
    "            factor = A[j, i]/A[i,j]\n",
    "            B[j] = B[j] - factor*B[i]\n",
    "            for k in range(i,n):\n",
    "                if A[j,k] !=0.0:\n",
    "                    A[j,k] = A[j,k] - factor*A[i,k]\n",
    "    return print(f\"A:\\n{A}\\nB:\\n{B}\")\n",
    "\n",
    "A = np.array([[2,-2,1],[3,2,-5],[-1,2,3]], dtype=float)\n",
    "B = np.array([10,-16,8], dtype=float)\n",
    "print(f\"Answer for SP1\")\n",
    "forward_elim(A,B)\n",
    "A = np.array([[2,1,-1,2],[1,-2,1,-4],[3,-1,-2,-1],[-1,2,1,-2]])\n",
    "B = np.array([0,3,-3,13], dtype=float)\n",
    "print(\"\\nAnswer for SP2\")\n",
    "forward_elim(A,B)\n"
   ]
  },
  {
   "cell_type": "markdown",
   "id": "46fd01e6-a6b0-4b0f-9433-b8e6bfd7d6a3",
   "metadata": {},
   "source": [
    "## SP5\n",
    "combine your programs that performed forward elimination and back substitution so that the solution vector for [x] is printed out."
   ]
  },
  {
   "cell_type": "code",
   "execution_count": 10,
   "id": "0aae5c07-6b06-41da-b1e5-b977cd1582bf",
   "metadata": {},
   "outputs": [
    {
     "name": "stdout",
     "output_type": "stream",
     "text": [
      "Answer for SP1\n",
      "[ 2. -1.  4.]\n",
      "Answer for SP2\n",
      "[ 1.  4.  2. -2.]\n"
     ]
    }
   ],
   "source": [
    "import numpy as np\n",
    "\n",
    "def Gauss(A,B):\n",
    "    n = len(B)\n",
    "    for i in range(0, n):\n",
    "        for j in range(i+1, n):\n",
    "            factor = A[j,i]/A[i,i]\n",
    "            B[j] = B[j] - factor*B[i]\n",
    "            for k in range(i, n):\n",
    "                if A[j, k] != 0.0:\n",
    "                    A[j, k] = A[j, k] - factor * A[i, k]\n",
    "    for k in range(n-1, -1,-1):\n",
    "        B[k] = (B[k] - np.dot(A[k,k+1:n], B[k+1:n]))/A[k,k]\n",
    "    return print(B)\n",
    "\n",
    "A = np.array([[2,-2,1],[3,2,-5],[-1,2,3]], dtype=float)\n",
    "B = np.array([10,-16,8], dtype=float)\n",
    "print(f\"Answer for SP1\")\n",
    "Gauss(A,B)\n",
    "A = np.array([[2,1,-1,2],[1,-2,1,-4],[3,-1,-2,-1],[-1,2,1,-2]], dtype=float)\n",
    "B = np.array([0,3,-3,13], dtype=float)\n",
    "print(\"Answer for SP2\")\n",
    "Gauss(A,B)\n"
   ]
  },
  {
   "cell_type": "markdown",
   "id": "8c91de4c-a8f4-4907-b200-a0d2381173f2",
   "metadata": {},
   "source": [
    "## SP6\n",
    "modify your program form SP5 to perform Gauss-Jordan elimination. "
   ]
  },
  {
   "cell_type": "code",
   "execution_count": 3,
   "id": "a489747c-c3e6-4de4-a70a-0fa56ff0a4b5",
   "metadata": {},
   "outputs": [
    {
     "name": "stdout",
     "output_type": "stream",
     "text": [
      "Answer for SP3\n",
      "[[1. 0. 0. 0.]\n",
      " [0. 1. 0. 0.]\n",
      " [0. 0. 1. 0.]\n",
      " [0. 0. 0. 1.]] [ 2.  3.  1. -2.]\n"
     ]
    }
   ],
   "source": [
    "import numpy as np\n",
    "def GaussJordan(A,B):\n",
    "    n = len(B)\n",
    "    for k in range(n):\n",
    "        if np.fabs(A[k,k])<1.0e-12:\n",
    "            for i in range(k+1, n):\n",
    "                if np.fabs(A[i,k])> np.fabs(A[k,k]):\n",
    "                    for j in range(k, n):\n",
    "                        A[k, j], A[i, j] = A[i, j], A[k, j]\n",
    "                    B[k], B[i] = B[i], B[k]\n",
    "                    break\n",
    "        pivot = A[k, k]\n",
    "        for j in range(k, n):\n",
    "            A[k, j] /= pivot\n",
    "        B[k] /= pivot\n",
    "        for i in range(n):\n",
    "            if i == k or A[i, k] == 0: continue\n",
    "            ratio = A[i, k]\n",
    "            B[i] -= ratio * B[k]\n",
    "            for j in range(k, n):\n",
    "                A[i, j] -= ratio * A[k, j]\n",
    "    for k in range(n-1, -1, -1):\n",
    "        B[k] = (B[k]- np.dot(A[k, k+1:n], B[k+1:n]))/ A[k, k]\n",
    "    return print(A, B)\n",
    "    \n",
    "A = np.array([[4,3,2,1],[2,-1,2,-4],[1,2,-2,-1],[-2,4,5,-1]], dtype=float)\n",
    "B = np.array([17,11,8,15], dtype=float)\n",
    "print(\"Answer for SP3\")\n",
    "GaussJordan(A,B)"
   ]
  },
  {
   "cell_type": "code",
   "execution_count": null,
   "id": "f2eb0ea7-1c61-4b99-ba47-ad1fd3a5a0d2",
   "metadata": {},
   "outputs": [],
   "source": []
  }
 ],
 "metadata": {
  "kernelspec": {
   "display_name": "Python 3 (ipykernel)",
   "language": "python",
   "name": "python3"
  },
  "language_info": {
   "codemirror_mode": {
    "name": "ipython",
    "version": 3
   },
   "file_extension": ".py",
   "mimetype": "text/x-python",
   "name": "python",
   "nbconvert_exporter": "python",
   "pygments_lexer": "ipython3",
   "version": "3.9.5"
  }
 },
 "nbformat": 4,
 "nbformat_minor": 5
}
