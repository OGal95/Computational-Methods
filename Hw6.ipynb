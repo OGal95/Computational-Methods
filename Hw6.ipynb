{
 "cells": [
  {
   "cell_type": "markdown",
   "id": "b6b21c42-865c-408f-bd1d-a069cdba8530",
   "metadata": {},
   "source": [
    "# Homework 6"
   ]
  },
  {
   "cell_type": "markdown",
   "id": "9eb65c63-3a85-4801-a955-2b8a5a70d9fd",
   "metadata": {},
   "source": [
    "## Oscar Galindo"
   ]
  },
  {
   "cell_type": "markdown",
   "id": "3eb00cc2-c817-494a-b292-9002e7696cc0",
   "metadata": {},
   "source": [
    "## Problem 19.1"
   ]
  },
  {
   "cell_type": "code",
   "execution_count": 1,
   "id": "04af5a8f-a272-44d4-a879-b8c0f8caf36f",
   "metadata": {},
   "outputs": [
    {
     "name": "stdin",
     "output_type": "stream",
     "text": [
      "Enter a x value 64\n",
      "Enter a y value 3\n",
      "Enter tol value 7\n"
     ]
    },
    {
     "name": "stdout",
     "output_type": "stream",
     "text": [
      "4.0\n"
     ]
    }
   ],
   "source": [
    "from math import *\n",
    "\n",
    "def my_nth_root(x, n, tol):\n",
    "    f = lambda y: y**n-x\n",
    "    fprime = lambda y: n*(y**(n-1))\n",
    "    xi = x\n",
    "    if tol > 7:\n",
    "        tol = 7\n",
    "    err_stop  = 1 * (10**-tol)\n",
    "    root_data = [xi]\n",
    "    rel_err = 1.1* err_stop\n",
    "    max_iter = 200\n",
    "    for i in range(0, max_iter):\n",
    "        xi_plus_1= xi-f(xi)/fprime(xi)\n",
    "        root_data.append(xi_plus_1)\n",
    "        rel_err = abs((xi_plus_1 - xi)/xi_plus_1)\n",
    "        if rel_err <= err_stop:\n",
    "            break\n",
    "        xi = xi_plus_1\n",
    "    print(root_data[len(root_data)-1])\n",
    "    \n",
    "if __name__ == '__main__':\n",
    "    x = float(input(\"Enter a x value\"))\n",
    "    n = float(input(\"Enter a y value\"))\n",
    "    tol = int(input(\"Enter tol value\"))\n",
    "    my_nth_root(x,n,tol)\n",
    "    "
   ]
  },
  {
   "cell_type": "markdown",
   "id": "55457506-95c7-4204-a262-484be72e309e",
   "metadata": {},
   "source": [
    "## Problem 19.2"
   ]
  },
  {
   "cell_type": "code",
   "execution_count": 5,
   "id": "81bc2bd4-89da-45a5-9dbd-ffa30d94f10b",
   "metadata": {
    "tags": []
   },
   "outputs": [],
   "source": [
    "import numpy as np\n",
    "import sympy\n",
    "from math import *\n",
    "\n",
    "\n",
    "\n",
    "def g_string():\n",
    "    fn_string = \"5/(exp(0.5*x)+1.2)\"\n",
    "    return fn_string\n",
    "\n",
    "def f_string():\n",
    "    fn_string = \"x*exp(0.5*x+1.2*x-5)\"\n",
    "    return fn_string\n",
    "\n",
    "def f(x):\n",
    "    string = g_string()\n",
    "    tmp = eval(string)\n",
    "    return tmp\n",
    "\n",
    "def g(x):\n",
    "    string = g_string()\n",
    "    tmp = eval(string)\n",
    "    return tmp\n",
    "\n",
    "def my_fixed_point(f, g, tol, max_iter):\n",
    "    xold = 1.0\n",
    "    root_approx = [xold]\n",
    "    if tol > 7:\n",
    "        tol = 7\n",
    "    err_stop = 1 *(10 **-tol)\n",
    "    rel_err = 1.1 * err_stop\n",
    "    count = 0\n",
    "    table = [[\"i\", \"root approx.\", \"rel. error\"]]\n",
    "    for i in range(0, max_iter):\n",
    "        count += 1\n",
    "        tmp = g(xold)\n",
    "        xnew = tmp\n",
    "        root_approx.append(xnew)\n",
    "        if count > 1:\n",
    "            rel_err =  abs((xnew - xold)/ xnew)\n",
    "            table.append([i + 1, xnew, f\"{rel_err:.2e}\"])\n",
    "            if rel_err <= err_stop:\n",
    "                break\n",
    "        else:\n",
    "            table.append([i + 1, xnew, \"NA\"])\n",
    "        xold = xnew\n",
    "        x_start = 1\n",
    "        x_end = 2.5\n",
    "        x = np.linspace(x_start, x_end, 100)\n",
    "        function_name = f_string()\n",
    "        function_syms = sympy.latex(sympy.sympify(function_name))\n",
    "        title_base = \"Plot of \" + \"$\" + function_syms + \"$\"\n",
    "        title = title_base\n",
    "        filename = \"fixed_point.png\"\n",
    "        xlabel = \"x\"\n",
    "        ylable = \"f(x)\"\n",
    "        root_data_label = \"root approximations\"\n",
    "        y_func_label = function_name\n",
    "        FunctionRootPlot111(x, xlabel, f, ylabel, root_approx, root_data_label, title, filename)\n",
    "        \n",
    "if  _name_ == '_name_':\n",
    "    tol = int(input(\"Enter tol value\"))\n",
    "    max_iter = int(input(\"Enter max_iter value\"))\n",
    "    my_fixed_point(f, g, tol, max_iter)"
   ]
  },
  {
   "cell_type": "markdown",
   "id": "cea1b2af-aa97-473d-a3a3-02748864da07",
   "metadata": {},
   "source": [
    "## Problem 19.5 "
   ]
  },
  {
   "cell_type": "code",
   "execution_count": null,
   "id": "c4295687-78cc-4a56-8250-615da30467f3",
   "metadata": {},
   "outputs": [],
   "source": []
  },
  {
   "cell_type": "code",
   "execution_count": 1,
   "id": "e9c6199a-d3bd-4fcc-862d-13162ab736b8",
   "metadata": {},
   "outputs": [],
   "source": [
    "from math import *\n",
    "from tabulate import tabulate\n",
    "import numpy as np\n",
    "\n",
    "def my_newton(f, df, xo, tol):\n",
    "    xi = x0\n",
    "    table = []\n",
    "    if tol < 1e-7:\n",
    "        tol = 1e-7\n",
    "    err_stop = tol\n",
    "    root_data = [xi]\n",
    "    edata = []\n",
    "    rel_err = 1.1 * err_stop\n",
    "    max_iter = 200\n",
    "    for i in range(0, max_iter):\n",
    "        xi_plus_1 = xi - f(xi) / df(xi)\n",
    "        root_data.append(xi_plus_1)\n",
    "        edata.append(abs(f(root_data[i])))\n",
    "        rel_err = abs((xi_plus_1 -xi)/xi_plus_1)\n",
    "        if rel_err <= err_stop:\n",
    "            break\n",
    "        xi = xi_plus_1\n",
    "    root_data.pop(len(root_data)-1)\n",
    "    print(f\"R = {root_data}\")\n",
    "    print(f\"E = {edata}\\n\")\n",
    "    \n",
    "if __name__ == '__name__':\n",
    "    f = lambda x : x**2-2\n",
    "    df = lambda x: 2*x\n",
    "    my_newton(f, df, 1, 1e-5)\n",
    "    f = lambda x: np.sin(x) - np.cos(x)\n",
    "    df = lambda x: np.cos(x) + np.sin(x)\n",
    "    my_newton(f, df, 1, 1e-5)"
   ]
  },
  {
   "cell_type": "markdown",
   "id": "3b8c1378-435a-4eec-86aa-f72999c822e4",
   "metadata": {},
   "source": [
    "## SP1"
   ]
  },
  {
   "cell_type": "code",
   "execution_count": 2,
   "id": "10b970c7-1de6-4437-83d5-2768a34c2037",
   "metadata": {},
   "outputs": [
    {
     "ename": "ModuleNotFoundError",
     "evalue": "No module named 'psm_plot'",
     "output_type": "error",
     "traceback": [
      "\u001b[0;31m---------------------------------------------------------------------------\u001b[0m",
      "\u001b[0;31mModuleNotFoundError\u001b[0m                       Traceback (most recent call last)",
      "\u001b[0;32m/tmp/ipykernel_25840/4153771096.py\u001b[0m in \u001b[0;36m<module>\u001b[0;34m\u001b[0m\n\u001b[1;32m      2\u001b[0m \u001b[0;32mimport\u001b[0m \u001b[0mnumpy\u001b[0m \u001b[0;32mas\u001b[0m \u001b[0mnp\u001b[0m\u001b[0;34m\u001b[0m\u001b[0;34m\u001b[0m\u001b[0m\n\u001b[1;32m      3\u001b[0m \u001b[0;32mimport\u001b[0m \u001b[0msympy\u001b[0m\u001b[0;34m\u001b[0m\u001b[0;34m\u001b[0m\u001b[0m\n\u001b[0;32m----> 4\u001b[0;31m \u001b[0;32mfrom\u001b[0m \u001b[0mpsm_plot\u001b[0m \u001b[0;32mimport\u001b[0m \u001b[0;34m*\u001b[0m\u001b[0;34m\u001b[0m\u001b[0;34m\u001b[0m\u001b[0m\n\u001b[0m\u001b[1;32m      5\u001b[0m \u001b[0;34m\u001b[0m\u001b[0m\n\u001b[1;32m      6\u001b[0m \u001b[0;32mdef\u001b[0m \u001b[0mf_string\u001b[0m\u001b[0;34m(\u001b[0m\u001b[0;34m)\u001b[0m\u001b[0;34m:\u001b[0m\u001b[0;34m\u001b[0m\u001b[0;34m\u001b[0m\u001b[0m\n",
      "\u001b[0;31mModuleNotFoundError\u001b[0m: No module named 'psm_plot'"
     ]
    }
   ],
   "source": [
    "from math import *\n",
    "import numpy as np\n",
    "import sympy\n",
    "from psm_plot import *\n",
    "\n",
    "def f_string():\n",
    "    fn_string = '(1.2*x**3) + (2*x**2) - (20*x) -10'\n",
    "    return fn_string\n",
    "\n",
    "def f(x):\n",
    "    string = f_string()\n",
    "    tmp = eval(string)\n",
    "    return tmp\n",
    "\n",
    "def main():\n",
    "    a = -4.0\n",
    "    b = -5.0\n",
    "    x_start = a\n",
    "    x_end = b\n",
    "    xi = 4.0\n",
    "    err_stop = 1e-7\n",
    "    root_data = [xi]\n",
    "    rel_err = 1.1*err_stop\n",
    "    max_iter = 200\n",
    "    for i in range(0, max_iter):\n",
    "        xi_plus_1 = xi - ((f(xi)) *((xi -1) - xi)) / (f(xi-1) - f(xi))\n",
    "        root_data.append(xi_plus_1)\n",
    "        rel_err = abs((xi_plus_1 -xi)/xi_plus_1)\n",
    "        if rel_err <= err_stop:\n",
    "            break\n",
    "        xi = xi_plus_1\n",
    "    x = np.linspace(x_start, x_end, 100)\n",
    "    \n",
    "    function_name = f_string()\n",
    "    function_syms = sympy.latex(sympy.sympify(function_name))\n",
    "    title_base = \"Plot of \" + \"$\" + function_syms + \"$\"\n",
    "    title = title_base\n",
    "    filename = \"single_iteration_of_newton_raphson.png\"\n",
    "    xlabel = \"x\"\n",
    "    ylabel = \"f(x)\"\n",
    "    root_data_label = \"root approximations\"\n",
    "    y_func_label = function_name\n",
    "    FunctionRootPlot111_newton_raphson(x, xlabel, f, ylabel, root_data, root_data_label, title, filename, 1)\n",
    "\n",
    "\n",
    "if __name__ == '__name__':\n",
    "    main()"
   ]
  },
  {
   "cell_type": "markdown",
   "id": "cd02f349-ad9d-4b88-b63d-6a1734bd965a",
   "metadata": {},
   "source": [
    "## SP2"
   ]
  },
  {
   "cell_type": "code",
   "execution_count": 3,
   "id": "46980443-a63c-4d3d-9e3e-9ba0c6dc2cdf",
   "metadata": {},
   "outputs": [
    {
     "ename": "ModuleNotFoundError",
     "evalue": "No module named 'psm_plot'",
     "output_type": "error",
     "traceback": [
      "\u001b[0;31m---------------------------------------------------------------------------\u001b[0m",
      "\u001b[0;31mModuleNotFoundError\u001b[0m                       Traceback (most recent call last)",
      "\u001b[0;32m/tmp/ipykernel_25840/3478539772.py\u001b[0m in \u001b[0;36m<module>\u001b[0;34m\u001b[0m\n\u001b[1;32m      2\u001b[0m \u001b[0;32mimport\u001b[0m \u001b[0mnumpy\u001b[0m \u001b[0;32mas\u001b[0m \u001b[0mnp\u001b[0m\u001b[0;34m\u001b[0m\u001b[0;34m\u001b[0m\u001b[0m\n\u001b[1;32m      3\u001b[0m \u001b[0;32mimport\u001b[0m \u001b[0msympy\u001b[0m\u001b[0;34m\u001b[0m\u001b[0;34m\u001b[0m\u001b[0m\n\u001b[0;32m----> 4\u001b[0;31m \u001b[0;32mfrom\u001b[0m \u001b[0mpsm_plot\u001b[0m \u001b[0;32mimport\u001b[0m \u001b[0;34m*\u001b[0m\u001b[0;34m\u001b[0m\u001b[0;34m\u001b[0m\u001b[0m\n\u001b[0m\u001b[1;32m      5\u001b[0m \u001b[0;34m\u001b[0m\u001b[0m\n\u001b[1;32m      6\u001b[0m \u001b[0;32mdef\u001b[0m \u001b[0mg_string\u001b[0m\u001b[0;34m(\u001b[0m\u001b[0;34m)\u001b[0m\u001b[0;34m:\u001b[0m\u001b[0;34m\u001b[0m\u001b[0;34m\u001b[0m\u001b[0m\n",
      "\u001b[0;31mModuleNotFoundError\u001b[0m: No module named 'psm_plot'"
     ]
    }
   ],
   "source": [
    "from math import *\n",
    "import numpy as np\n",
    "import sympy\n",
    "from psm_plot import *\n",
    "\n",
    "def g_string():\n",
    "    fn_string = '(3*x**2)-1-e**x'\n",
    "    return fn_string\n",
    "\n",
    "def g(x):\n",
    "    string = f_string()\n",
    "    tmp = eval(string)\n",
    "    return tmp\n",
    "\n",
    "def f_string():\n",
    "    fn_string = \"(x**3)-(x)-(e**x)-(2)\"\n",
    "    return tmp\n",
    "\n",
    "def my_fixed_point(g):\n",
    "    xold = 1\n",
    "    err_stop = 1e-7\n",
    "    root_approx = [xold]\n",
    "    rel_err = 1.1*err_stop\n",
    "    max_iter = 4\n",
    "    for i in range(0, max_iter):\n",
    "        count += 1\n",
    "        tmp = g(xold)\n",
    "        xnew = tmp\n",
    "        root_approx.append(xnew)\n",
    "        if count > 1:\n",
    "            rel_err = abs((xnew-xold)/xnew)\n",
    "            if rel_err <= err_stop:\n",
    "                break\n",
    "        xold = xnew\n",
    "    print(root_approx)\n",
    "    x_start = 2\n",
    "    x_end = 3\n",
    "    x = np.linspace(x_start, x_end, 100)\n",
    "    function_name = f_string()\n",
    "    function_syms = sympy.latex(sympy.sympify(function_name))\n",
    "    title_base = \"Plot of \" + \"$\" + function_syms + \"$\"\n",
    "    title = title_base\n",
    "    filename = \"fixed_pointG.png\"\n",
    "    xlabel = \"x\"\n",
    "    ylabel = \"f(x)\"\n",
    "    root_data_label = \"root approximations\"\n",
    "    y_func_label = function_name\n",
    "    FunctionRootPlot111_newton_raphson(x, xlabel, f, ylabel, root_data, root_data_label, title, filename, 1)\n",
    "\n",
    "\n",
    "if __name__ == '__name__':\n",
    "    my_fixed_point(g)\n",
    "    \n",
    "    "
   ]
  },
  {
   "cell_type": "markdown",
   "id": "321b8ee3-f943-4a48-83fe-b56037bf2d02",
   "metadata": {},
   "source": [
    "## SP3"
   ]
  },
  {
   "cell_type": "code",
   "execution_count": 1,
   "id": "675eaec8-7ceb-4c3c-9efa-39f4ebd9c44f",
   "metadata": {},
   "outputs": [
    {
     "ename": "ModuleNotFoundError",
     "evalue": "No module named 'psm_plot'",
     "output_type": "error",
     "traceback": [
      "\u001b[0;31m---------------------------------------------------------------------------\u001b[0m",
      "\u001b[0;31mModuleNotFoundError\u001b[0m                       Traceback (most recent call last)",
      "\u001b[0;32m/tmp/ipykernel_27577/4133002163.py\u001b[0m in \u001b[0;36m<module>\u001b[0;34m\u001b[0m\n\u001b[1;32m      2\u001b[0m \u001b[0;32mimport\u001b[0m \u001b[0mnumpy\u001b[0m \u001b[0;32mas\u001b[0m \u001b[0mnp\u001b[0m\u001b[0;34m\u001b[0m\u001b[0;34m\u001b[0m\u001b[0m\n\u001b[1;32m      3\u001b[0m \u001b[0;32mimport\u001b[0m \u001b[0msympy\u001b[0m\u001b[0;34m\u001b[0m\u001b[0;34m\u001b[0m\u001b[0m\n\u001b[0;32m----> 4\u001b[0;31m \u001b[0;32mfrom\u001b[0m \u001b[0mpsm_plot\u001b[0m \u001b[0;32mimport\u001b[0m \u001b[0;34m*\u001b[0m\u001b[0;34m\u001b[0m\u001b[0;34m\u001b[0m\u001b[0m\n\u001b[0m\u001b[1;32m      5\u001b[0m \u001b[0;34m\u001b[0m\u001b[0m\n\u001b[1;32m      6\u001b[0m \u001b[0;32mdef\u001b[0m \u001b[0mf_string\u001b[0m\u001b[0;34m(\u001b[0m\u001b[0;34m)\u001b[0m\u001b[0;34m:\u001b[0m\u001b[0;34m\u001b[0m\u001b[0;34m\u001b[0m\u001b[0m\n",
      "\u001b[0;31mModuleNotFoundError\u001b[0m: No module named 'psm_plot'"
     ]
    }
   ],
   "source": [
    "from math import *\n",
    "import numpy as np\n",
    "import sympy\n",
    "from psm_plot import *\n",
    "\n",
    "def f_string():\n",
    "    fn_string = 'x-(2*e**-x)'\n",
    "    return fn_string\n",
    "\n",
    "def f(x):\n",
    "    string = f_string()\n",
    "    tmp = eval(string)\n",
    "    return tmp\n",
    "\n",
    "def main():\n",
    "    a = 0\n",
    "    b = 1\n",
    "    x_start = a\n",
    "    x_end = b\n",
    "    xi = 1\n",
    "    err_stop = 1e-7\n",
    "    root_data = [xi]\n",
    "    rel_err = 1.1*err_stop\n",
    "    max_iter = 200\n",
    "    for i in range(0, max_iter):\n",
    "        xi_plus_1 = xi - ((f(xi)) *((xi -1) - xi)) / (f(xi-1) - f(xi))\n",
    "        root_data.append(xi_plus_1)\n",
    "        rel_err = abs((xi_plus_1 -xi)/xi_plus_1)\n",
    "        if rel_err <= err_stop:\n",
    "            break\n",
    "        xi = xi_plus_1\n",
    "    x = np.linspace(x_start, x_end, 100)\n",
    "    \n",
    "    function_name = f_string()\n",
    "    function_syms = sympy.latex(sympy.sympify(function_name))\n",
    "    title_base = \"Plot of \" + \"$\" + function_syms + \"$\"\n",
    "    title = title_base\n",
    "    filename = \"single_iteration_of_newton_raphson.png\"\n",
    "    xlabel = \"x\"\n",
    "    ylabel = \"f(x)\"\n",
    "    root_data_label = \"root approximations\"\n",
    "    y_func_label = function_name\n",
    "    FunctionRootPlot111_newton_raphson(x, xlabel, f, ylabel, root_data, root_data_label, title, filename, 1)\n",
    "\n",
    "\n",
    "if __name__ == '__name__':\n",
    "    main()"
   ]
  },
  {
   "cell_type": "code",
   "execution_count": 1,
   "id": "23324fdf-a8ba-49ad-9491-898054ee6a39",
   "metadata": {},
   "outputs": [
    {
     "ename": "ModuleNotFoundError",
     "evalue": "No module named 'psm_plot'",
     "output_type": "error",
     "traceback": [
      "\u001b[0;31m---------------------------------------------------------------------------\u001b[0m",
      "\u001b[0;31mModuleNotFoundError\u001b[0m                       Traceback (most recent call last)",
      "\u001b[0;32m/tmp/ipykernel_28349/205598944.py\u001b[0m in \u001b[0;36m<module>\u001b[0;34m\u001b[0m\n\u001b[1;32m      2\u001b[0m \u001b[0;32mimport\u001b[0m \u001b[0mnumpy\u001b[0m \u001b[0;32mas\u001b[0m \u001b[0mnp\u001b[0m\u001b[0;34m\u001b[0m\u001b[0;34m\u001b[0m\u001b[0m\n\u001b[1;32m      3\u001b[0m \u001b[0;32mimport\u001b[0m \u001b[0msympy\u001b[0m\u001b[0;34m\u001b[0m\u001b[0;34m\u001b[0m\u001b[0m\n\u001b[0;32m----> 4\u001b[0;31m \u001b[0;32mfrom\u001b[0m \u001b[0mpsm_plot\u001b[0m \u001b[0;32mimport\u001b[0m \u001b[0;34m*\u001b[0m\u001b[0;34m\u001b[0m\u001b[0;34m\u001b[0m\u001b[0m\n\u001b[0m\u001b[1;32m      5\u001b[0m \u001b[0;34m\u001b[0m\u001b[0m\n\u001b[1;32m      6\u001b[0m \u001b[0;32mdef\u001b[0m \u001b[0mg_string\u001b[0m\u001b[0;34m(\u001b[0m\u001b[0;34m)\u001b[0m\u001b[0;34m:\u001b[0m\u001b[0;34m\u001b[0m\u001b[0;34m\u001b[0m\u001b[0m\n",
      "\u001b[0;31mModuleNotFoundError\u001b[0m: No module named 'psm_plot'"
     ]
    }
   ],
   "source": [
    "from math import *\n",
    "import numpy as np\n",
    "import sympy\n",
    "from psm_plot import *\n",
    "\n",
    "def g_string():\n",
    "    fn_string = '(2*x)-(5/(3*x**(2/3)))'\n",
    "    return fn_string\n",
    "\n",
    "def g(x):\n",
    "    string = g_string()\n",
    "    tmp = eval(string)\n",
    "    return tmp\n",
    "\n",
    "def my_fixed_point(g):\n",
    "    xold = 1\n",
    "    err_stop = 1e-7\n",
    "    root_approx = [xold]\n",
    "    rel_err = 1.1*err_stop\n",
    "    count = 0\n",
    "    max_iter = 2\n",
    "    tol = 7.0\n",
    "    for i in range(0, max_iter):\n",
    "        count += 1\n",
    "        tmp = g(xold)\n",
    "        xnew = tmp\n",
    "        root_approx.append(xnew)\n",
    "        if count <= err_stop:\n",
    "            break\n",
    "        xold = xnew\n",
    "    print(root_approx)\n",
    "    x_start = 2\n",
    "    x_end = 3\n",
    "    x = np.linspace(x_start, x_end, 100)\n",
    "    function_name = f_string()\n",
    "    function_syms = sympy.latex(sympy.sympify(function_name))\n",
    "    title_base = \"Plot of \" + \"$\" + function_syms + \"$\"\n",
    "    title = title_base\n",
    "    filename = \"fixed_pointG.png\"\n",
    "    xlabel = \"x\"\n",
    "    ylabel = \"f(x)\"\n",
    "    root_data_label = \"root approximations\"\n",
    "    y_func_label = function_name\n",
    "    FunctionRootPlot111_newton_raphson(x, xlabel, f, ylabel, root_data, root_data_label, title, filename, 1)\n",
    "\n",
    "\n",
    "if __name__ == '__name__':\n",
    "    my_fixed_point(g)"
   ]
  },
  {
   "cell_type": "code",
   "execution_count": null,
   "id": "d321d15a-7425-4daf-8291-2135513524b1",
   "metadata": {},
   "outputs": [],
   "source": []
  }
 ],
 "metadata": {
  "kernelspec": {
   "display_name": "Python 3 (ipykernel)",
   "language": "python",
   "name": "python3"
  },
  "language_info": {
   "codemirror_mode": {
    "name": "ipython",
    "version": 3
   },
   "file_extension": ".py",
   "mimetype": "text/x-python",
   "name": "python",
   "nbconvert_exporter": "python",
   "pygments_lexer": "ipython3",
   "version": "3.9.5"
  }
 },
 "nbformat": 4,
 "nbformat_minor": 5
}
