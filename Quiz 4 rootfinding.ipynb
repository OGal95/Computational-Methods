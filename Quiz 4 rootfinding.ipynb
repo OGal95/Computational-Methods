{
 "cells": [
  {
   "cell_type": "markdown",
   "id": "f7f4a405-72a6-4821-a477-66abf3af3533",
   "metadata": {},
   "source": [
    "Root Finding For Bisection Code for Quiz"
   ]
  },
  {
   "cell_type": "code",
   "execution_count": 2,
   "id": "5a5ddf08-9a41-41f9-8d6c-a86d3d2d6864",
   "metadata": {},
   "outputs": [
    {
     "name": "stdout",
     "output_type": "stream",
     "text": [
      "1 1.8399999999999999 1.28 0.30434782608695643\n",
      "2 2.12 1.8399999999999999 0.13207547169811332\n",
      "3 2.26 2.12 0.061946902654867124\n",
      "4 2.33 2.26 0.030042918454935744\n",
      "5 2.295 2.33 0.01525054466230943\n",
      "6 2.3125 2.295 0.007567567567567599\n"
     ]
    }
   ],
   "source": [
    "from math import *\n",
    "import numpy as np\n",
    "\n",
    "def f(x):\n",
    "    return x*np.sinh(x)-5*x\n",
    "\n",
    "a = 0.160  # define and a and b (bracketing values)\n",
    "b = 2.40\n",
    "x_start = a\n",
    "x_end = b\n",
    "err_stop = 1e-2\n",
    "if f(a) * f(b) < 0:\n",
    "    rel_err = 1.1 * err_stop\n",
    "    max_iter = 20\n",
    "    xr_old = (a + b) / 2\n",
    "    for i in range(0, max_iter):\n",
    "        xr = (a + b) / 2\n",
    "        if f(a) * f(xr) < 0:\n",
    "            b = xr\n",
    "        else:\n",
    "            a = xr\n",
    "        if i > 0:\n",
    "            # calc rel_err here and compare to err_stop\n",
    "            # if rel_err is less than rel_err stop the loop now\n",
    "            rel_err = abs((xr-xr_old)/xr)\n",
    "            print(i,xr,xr_old,rel_err)\n",
    "            xr_old = xr\n",
    "            if rel_err <= err_stop:\n",
    "                break\n",
    "       \n",
    "            # if it's not put find a new xns (don't forget to store the old value in'\n",
    "            # xns_old\n",
    "            \n",
    "else:\n",
    "    print(\"Your a and b values do not bracket the root\")\n"
   ]
  },
  {
   "cell_type": "markdown",
   "id": "4159b146-e5b1-4652-9942-dcedaf06e796",
   "metadata": {},
   "source": [
    "Fixed Iteration Code For Quiz"
   ]
  },
  {
   "cell_type": "code",
   "execution_count": 1,
   "id": "a5bbfbdc-7d97-4424-9735-c6d1a12d51b1",
   "metadata": {},
   "outputs": [
    {
     "name": "stdout",
     "output_type": "stream",
     "text": [
      "1 1.1254628677422756 0.9572659443288559 0.17570553346211784\n",
      "2 0.9572659443288559 1.014144649666619 0.056085397045146354\n",
      "3 1.014144649666619 0.9952739489987605 0.01896030805070541\n",
      "4 0.9952739489987605 1.0015741114203647 0.0062902608501628245\n",
      "5 1.0015741114203647 0.9994751584638928 0.0021000551526441126\n",
      "6 0.9994751584638928 1.0001749318781215 0.0006996510229611898\n",
      "7 1.0001749318781215 0.9999416876737958 0.0002332578061309696\n",
      "8 0.9999416876737958 1.0000194372531646 7.774806815990714e-05\n",
      "9 1.0000194372531646 0.9999935208946225 2.5916526458005557e-05\n",
      "10 0.9999935208946225 1.0000021596994604 8.638786180741933e-06\n",
      "11 1.0000021596994604 0.9999992800999207 2.8796016127322746e-06\n",
      "12 0.9999992800999207 1.0000002399666643 9.598665133079347e-07\n",
      "13 1.0000002399666643 0.9999999200111087 3.199555811983811e-07\n",
      "14 0.9999999200111087 1.0000000266629634 1.0665185183740689e-07\n",
      "15 1.0000000266629634 0.9999999911123456 3.555061809889283e-08\n"
     ]
    }
   ],
   "source": [
    "from math import *\n",
    "def f(x):\n",
    "    return m*pow(x,2) + (1-m)*x - 1\n",
    "\n",
    "def g(x):\n",
    "    return pow(((1-(1-m)*x)/m),1/2)\n",
    "\n",
    "xold = 0.60\n",
    "m= 0.60             #initial guess of x\n",
    "err_stop = 1e-7     #adjust as needed...\n",
    "rel_err = 1.1*err_stop  #set value large enough to start process\n",
    "count = 0\n",
    "max_iter = 25\n",
    "\n",
    "for i in range(0,max_iter):\n",
    "    count+=1\n",
    "    tmp = g(xold)\n",
    "    xnew = tmp\n",
    "    if count > 1:\n",
    "        rel_err = abs((xnew-xold)/xnew)\n",
    "        print(i,xold,xnew,rel_err)\n",
    "        if rel_err <= err_stop:\n",
    "            break\n",
    "    xold = xnew\n"
   ]
  },
  {
   "cell_type": "code",
   "execution_count": 8,
   "id": "50a7e7d9-077d-4aad-9cb7-c03564752436",
   "metadata": {},
   "outputs": [],
   "source": []
  },
  {
   "cell_type": "markdown",
   "id": "e8a6e4df-e21a-41ec-8eea-5c00fe62c205",
   "metadata": {},
   "source": [
    "Bisection Bias code For Quiz"
   ]
  },
  {
   "cell_type": "code",
   "execution_count": 14,
   "id": "6129e94c-ab66-4d72-a84e-e47b2e3fc503",
   "metadata": {},
   "outputs": [
    {
     "name": "stdout",
     "output_type": "stream",
     "text": [
      "1 0.8082 0.39123979213066074\n",
      "2 1.07697 0.24956126911613133\n",
      "3 1.3054245 0.1750039929540161\n",
      "4 1.499610825 0.1294911464779537\n",
      "5 1.66466920125 0.09915385959327995\n",
      "6 1.8049688210625 0.0777296639007383\n",
      "7 1.685714144221875 0.07074430575871614\n",
      "8 1.7036023457479688 0.01050022123457448\n",
      "9 1.7188073170451483 0.00884623374964384\n"
     ]
    }
   ],
   "source": [
    "from math import *\n",
    "import numpy as np\n",
    "\n",
    "def f(x):\n",
    "    return x*np.cosh(x)-3*x\n",
    "\n",
    "a = 0.120  # define and a and b (bracketing values)\n",
    "b = 2.60\n",
    "m = 0.15\n",
    "x_start = a\n",
    "x_end = b\n",
    "err_stop = 1e-2\n",
    " \n",
    "if f(a) * f(b) < 0:\n",
    "    rel_err = 1.1 * err_stop\n",
    "    max_iter = 22\n",
    "    xr_old = a + m*(b-a)\n",
    "    for i in range(0, max_iter):\n",
    "        xr = a + m*(b-a)\n",
    "        if f(a) * f(xr) < 0:\n",
    "            b = xr\n",
    "        else:\n",
    "            a = xr\n",
    "        if i > 0:\n",
    "            # calc rel_err here and compare to err_stop\n",
    "            # if rel_err is less than rel_err stop the loop now\n",
    "            rel_err = abs((xr-xr_old)/xr)\n",
    "            print(i,xr,rel_err)\n",
    "            xr_old = xr\n",
    "            if rel_err <= err_stop:\n",
    "                break\n",
    "            # if it's not put find a new xns (don't forget to store the old value in'\n",
    "            # xns_old\n",
    "else:\n",
    "    print(\"Your a and b values do not bracket the root\")\n"
   ]
  },
  {
   "cell_type": "markdown",
   "id": "0fb44cb5-4ed9-404f-a707-d4e1d17362a9",
   "metadata": {},
   "source": [
    "False Position Code for quiz"
   ]
  },
  {
   "cell_type": "code",
   "execution_count": 15,
   "id": "a6262994-ebb2-412c-927a-428c389c962b",
   "metadata": {},
   "outputs": [
    {
     "name": "stdout",
     "output_type": "stream",
     "text": [
      "1 0.7665585465753056 0.5060192764638658\n",
      "2 0.9652989928294884 0.20588485819469668\n",
      "3 0.9980989778431458 0.0328624572730622\n",
      "4 0.9999248352771026 0.0018259946843412619\n",
      "5 0.9999970918914831 7.225682451117046e-05\n",
      "6 0.9999998875835965 2.7956924276481872e-06\n",
      "7 0.999999995654556 1.0807095998432189e-07\n",
      "8 0.9999999998320275 4.17747148055096e-09\n"
     ]
    }
   ],
   "source": [
    "from math import *\n",
    "import numpy as np\n",
    "\n",
    "def f(x):\n",
    "    return x*log(x)\n",
    "\n",
    "\n",
    "a = 0.100 # define and a and b (bracketing values)\n",
    "b = 3.40\n",
    "m = 0.60\n",
    "x_start = a\n",
    "x_end = b\n",
    "err_stop = 1e-7\n",
    " \n",
    "if f(a) * f(b) < 0:\n",
    "    rel_err = 1.1 * err_stop\n",
    "    max_iter = 20\n",
    "    xr_old = (a*m*f(b)-b*f(a))/(m*f(b)-f(a))\n",
    "    for i in range(0, max_iter):\n",
    "        xr = (a*m*f(b)-b*f(a))/(m*f(b)-f(a))\n",
    "        if f(a) * f(xr) < 0:\n",
    "            b = xr\n",
    "        else:\n",
    "            a = xr\n",
    "          \n",
    "        if i > 0:\n",
    "            # calc rel_err here and compare to err_stop\n",
    "            # if rel_err is less than rel_err stop the loop now\n",
    "            rel_err = abs((xr-xr_old)/xr)\n",
    "            print(i,xr,rel_err)\n",
    "            xr_old = xr\n",
    "            if rel_err <= err_stop:\n",
    "                break\n",
    "            # if it's not put find a new xns (don't forget to store the old value in'\n",
    "            # xns_old\n",
    "else:\n",
    "    print(\"Your a and b values do not bracket the root\")\n",
    "\n",
    " \n"
   ]
  },
  {
   "cell_type": "code",
   "execution_count": null,
   "id": "96ef5059-e7fd-4603-8257-ba44ad255b46",
   "metadata": {},
   "outputs": [],
   "source": []
  }
 ],
 "metadata": {
  "kernelspec": {
   "display_name": "Python 3 (ipykernel)",
   "language": "python",
   "name": "python3"
  },
  "language_info": {
   "codemirror_mode": {
    "name": "ipython",
    "version": 3
   },
   "file_extension": ".py",
   "mimetype": "text/x-python",
   "name": "python",
   "nbconvert_exporter": "python",
   "pygments_lexer": "ipython3",
   "version": "3.9.5"
  }
 },
 "nbformat": 4,
 "nbformat_minor": 5
}
