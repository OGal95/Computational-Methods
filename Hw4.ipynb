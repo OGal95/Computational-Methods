{
 "cells": [
  {
   "cell_type": "markdown",
   "id": "a7de2548-79b7-40a8-bbc9-70cd641c8ae7",
   "metadata": {},
   "source": [
    "# Homework 4"
   ]
  },
  {
   "cell_type": "markdown",
   "id": "5d4c4518-e417-423a-a5ed-2f23535c7990",
   "metadata": {},
   "source": [
    "# Ch4"
   ]
  },
  {
   "cell_type": "markdown",
   "id": "906060d9-9ef7-4f44-8f16-dd0c7e88e19e",
   "metadata": {},
   "source": [
    "## Problem 2"
   ]
  },
  {
   "cell_type": "code",
   "execution_count": 7,
   "id": "a54d343c-2aae-4fd9-9897-b73cdef98adf",
   "metadata": {},
   "outputs": [
    {
     "name": "stdout",
     "output_type": "stream",
     "text": [
      "The Vector 'a' plus 'b' is [3 5 7 9]\n",
      "The Vector 'a' minus 'b' is [-1 -1 -1 -1]\n",
      "The Vector 'a' multiply by 'b' is [ 2  6 12 20]\n",
      "The Vector 'a' divided by 'b' is [0.5        0.66666667 0.75       0.8       ]\n",
      "The Vector 'a' to the power of 'b' is [   1    8   81 1024]\n"
     ]
    }
   ],
   "source": [
    "import numpy as np\n",
    "def my_mult_operation(a,b,operation):\n",
    "    if operation=='plus':\n",
    "        vector=a+b\n",
    "    elif operation=='minus':\n",
    "        vector=a-b\n",
    "    elif operation=='mult':\n",
    "        vector=a*b\n",
    "    elif operation=='div':\n",
    "        vector=a/b\n",
    "    elif operation=='pow':\n",
    "        vector=a**b\n",
    "    return vector\n",
    "    \n",
    "    \n",
    "x=np.array([1,2,3,4])\n",
    "y=np.array([2,3,4,5])\n",
    "print(f\"The Vector 'a' plus 'b' is {my_mult_operation(x,y,'plus')}\")\n",
    "print(f\"The Vector 'a' minus 'b' is {my_mult_operation(x,y,'minus')}\")\n",
    "print(f\"The Vector 'a' multiply by 'b' is {my_mult_operation(x,y,'mult')}\")\n",
    "print(f\"The Vector 'a' divided by 'b' is {my_mult_operation(x,y,'div')}\")\n",
    "print(f\"The Vector 'a' to the power of 'b' is {my_mult_operation(x,y,'pow')}\")"
   ]
  },
  {
   "cell_type": "markdown",
   "id": "6706eb19-2f42-4a53-a3a6-0b801e1bd941",
   "metadata": {},
   "source": [
    "## Problem 3"
   ]
  },
  {
   "cell_type": "code",
   "execution_count": 3,
   "id": "a205f9d3-0a58-4ff9-a632-73a64b2b8c43",
   "metadata": {},
   "outputs": [
    {
     "name": "stdout",
     "output_type": "stream",
     "text": [
      "\"border\"\n",
      "\"inside\"\n",
      "\"outside\"\n"
     ]
    }
   ],
   "source": [
    "import math\n",
    "xmin=0\n",
    "xmax=1\n",
    "ymin=0\n",
    "ymax=0\n",
    "def my_inside_triangle(x,y):\n",
    "    if (x>=xmin) or (x<=xmax) or (y>=ymin) or (y<=ymax):\n",
    "        if (x==xmin) or (y==ymin) or (x+y==1):\n",
    "            position = '\"border\"'\n",
    "        elif (x+y<1):\n",
    "            position= '\"inside\"'\n",
    "        else:\n",
    "            position= '\"outside\"'\n",
    "        return position\n",
    "    \n",
    "print(my_inside_triangle(.5,.5))\n",
    "print(my_inside_triangle(.25,.25))\n",
    "print(my_inside_triangle(5,5))\n"
   ]
  },
  {
   "cell_type": "markdown",
   "id": "2e3db7f5-da44-4f75-bffe-1cf2a391238d",
   "metadata": {},
   "source": [
    "## Problem 7"
   ]
  },
  {
   "cell_type": "code",
   "execution_count": 4,
   "id": "209aecbc-9f74-42bf-a0c1-42ea44957956",
   "metadata": {},
   "outputs": [
    {
     "name": "stdout",
     "output_type": "stream",
     "text": [
      "\"normal\"\n",
      "\"alarm\"\n",
      "\"normal\"\n"
     ]
    }
   ],
   "source": [
    "import math\n",
    "def my_nuke_alarm(s1,s2,s3):\n",
    "    response='\"normal\"'\n",
    "    d1=(s1-s2)\n",
    "    d2=(s2-s3)\n",
    "    d3=(s3-s1)\n",
    "    dmax=max(d1,d2,d3)\n",
    "    if dmax>10:\n",
    "        response='\"alarm\"'\n",
    "    return response\n",
    "print(my_nuke_alarm(94,96,90))\n",
    "print(my_nuke_alarm(94,96,80))\n",
    "print(my_nuke_alarm(100,96,90))"
   ]
  },
  {
   "cell_type": "markdown",
   "id": "29bdf715-6c34-49b6-a1c0-b9511a14dd71",
   "metadata": {},
   "source": [
    "## Problem 8"
   ]
  },
  {
   "cell_type": "code",
   "execution_count": 7,
   "id": "ccb70c59-3309-4c30-bcfd-084552ce55e1",
   "metadata": {},
   "outputs": [
    {
     "name": "stdout",
     "output_type": "stream",
     "text": [
      "(2, [3.0, -3.0])\n",
      "(-2, [0.4388749301184666, -1.7722082634518])\n",
      "(1, [1.0, 1.0])\n"
     ]
    }
   ],
   "source": [
    "import math\n",
    "def my_n_roots(a,b,c):\n",
    "    r=[]\n",
    "    s=math.sqrt(abs((b**2)-4*a*c))\n",
    "    if (b**2)-4*a*c > 0:\n",
    "        n_roots=2\n",
    "        r1=(-b+s)/(2*a)\n",
    "        r2=(-b-s)/(2*a)\n",
    "        r.append(r1)\n",
    "        r.append(r2)\n",
    "    elif (b**2)-4*a*c < 0:\n",
    "        n_roots=-2\n",
    "        r1=(-b+s)/(2*a)\n",
    "        r2=(-b-s)/(2*a)\n",
    "        r.append(r1)\n",
    "        r.append(r2)\n",
    "    elif (b**2)-4*a*c == 0:\n",
    "        n_roots=1\n",
    "        r1=b/(2*a)\n",
    "        r2=r1\n",
    "        r.append(r1)\n",
    "        r.append(r2)\n",
    "    return n_roots, r\n",
    "print(my_n_roots(1,0,-9))\n",
    "print(my_n_roots(3,4,5))\n",
    "print(my_n_roots(2,4,2))\n"
   ]
  },
  {
   "cell_type": "markdown",
   "id": "35b0391e-c956-40b1-aff7-606f100e5305",
   "metadata": {},
   "source": [
    "# Ch5"
   ]
  },
  {
   "cell_type": "markdown",
   "id": "5ce6996d-5912-49b7-8233-d263905195d5",
   "metadata": {},
   "source": [
    " ## Problem 3"
   ]
  },
  {
   "cell_type": "code",
   "execution_count": 9,
   "id": "876b7441-49be-471c-9194-585bab73b6f8",
   "metadata": {},
   "outputs": [
    {
     "name": "stdout",
     "output_type": "stream",
     "text": [
      "[10, 9, 8]\n"
     ]
    }
   ],
   "source": [
    " x=[7,9,10,5,8,3,4,6,2,1]\n",
    "def my_n_max(x,n):\n",
    "    out=[]\n",
    "    for a in range (0,n):\n",
    "        out.append(max(x))\n",
    "        x.pop(x.index(max(x)))\n",
    "    return out\n",
    "out = my_n_max(x,3)\n",
    "print(out)"
   ]
  },
  {
   "cell_type": "markdown",
   "id": "d8996dd2-3736-4074-bfe6-5f12865a7751",
   "metadata": {},
   "source": [
    "## Problem 4"
   ]
  },
  {
   "cell_type": "code",
   "execution_count": 11,
   "id": "02b80f90-4d4c-43e8-bc8c-7da1f5dcd21e",
   "metadata": {},
   "outputs": [
    {
     "name": "stdout",
     "output_type": "stream",
     "text": [
      "[[ 0.90929743 -0.9899925 ]\n",
      " [-0.7568025   0.28366219]]\n"
     ]
    }
   ],
   "source": [
    "from math import *\n",
    "import numpy as np\n",
    "def my_trig_odd_even(m):\n",
    "    rows,cols=m.shape\n",
    "    q=np.empty((rows,cols))\n",
    "    for i in range(0,rows):\n",
    "        for j in range(0,cols):\n",
    "            if m[i,j]%2==0:\n",
    "                q[i,j]=sin(m[i,j])\n",
    "            else:\n",
    "                q[i,j]=cos(m[i,j])\n",
    "    return q\n",
    "m=np.array(([2,3],[4,5]))\n",
    "print(my_trig_odd_even(m))"
   ]
  },
  {
   "cell_type": "markdown",
   "id": "bf15e218-a54d-48b3-88ee-298992712a7f",
   "metadata": {},
   "source": [
    "## Problem 5"
   ]
  },
  {
   "cell_type": "code",
   "execution_count": 15,
   "id": "e8a0db7b-9cbf-4034-a5ff-0aee6587478f",
   "metadata": {},
   "outputs": [
    {
     "name": "stdout",
     "output_type": "stream",
     "text": [
      "[[3.0, 3.0, 3.0], [3.0, 3.0, 3.0], [3.0, 3.0, 3.0]]\n",
      "[[50, 60, 70, 0], [50, 60, 70, 0]]\n"
     ]
    }
   ],
   "source": [
    "import numpy as np\n",
    "from math import *\n",
    "def my_mat_mult(P,Q):\n",
    "    M=[[0]*len(Q)]*len(P)\n",
    "    for i in range(0,len(P)):\n",
    "        for j in range(0,len(Q[0])):\n",
    "            M[i][j]=0\n",
    "            for k in range(0,len(P[0])):\n",
    "                M[i][j]+=P[i][j]*Q[k][j]\n",
    "    return M\n",
    "P= np.ones((3,3))\n",
    "print(my_mat_mult(P,P))\n",
    "P=np.array([[1,2,3,4],[5,6,7,8]])\n",
    "Q=np.array([[1,1,1],[2,2,2],[3,3,3],[4,4,4]])\n",
    "print(my_mat_mult(P,Q))"
   ]
  },
  {
   "cell_type": "markdown",
   "id": "c5a58b6e-cd60-44ec-8fe4-705d49fc9bd9",
   "metadata": {},
   "source": [
    "## Problem 8"
   ]
  },
  {
   "cell_type": "code",
   "execution_count": 16,
   "id": "447e5ac1-cd20-4d7c-a378-a0509f5f8518",
   "metadata": {},
   "outputs": [
    {
     "name": "stdout",
     "output_type": "stream",
     "text": [
      "4 1\n",
      "1 10\n"
     ]
    }
   ],
   "source": [
    "import random\n",
    "dice1=random.randint(1,6)\n",
    "dice2=random.randint(1,6)\n",
    "summ=dice1+dice2\n",
    "max_int=1000\n",
    "for i in range(0,max_int):\n",
    "    dice1=random.randint(1,6)\n",
    "    dice2=random.randint(1,6)\n",
    "    print(dice1,dice2)\n",
    "    if dice1==dice2:\n",
    "        summ+=dice1+dice2\n",
    "    else:\n",
    "        break\n",
    "print(i+1,summ)"
   ]
  },
  {
   "cell_type": "markdown",
   "id": "b6fe9d41-2448-4edb-b5a0-cfecc1548438",
   "metadata": {},
   "source": [
    "## Problem 12"
   ]
  },
  {
   "cell_type": "code",
   "execution_count": 17,
   "id": "76fa85fb-f18d-461f-9154-f3da620e4777",
   "metadata": {},
   "outputs": [
    {
     "name": "stdout",
     "output_type": "stream",
     "text": [
      "[[[0.8660254037844386, 0.7071067811865476], [0.8660254037844387, 0.4338837391175581]]]\n"
     ]
    }
   ],
   "source": [
    "from math import *\n",
    "def my_trig_odd_even(M):\n",
    "    Q=M\n",
    "    for i in range(len(M)):\n",
    "        for j in range(len(M[0])):\n",
    "            if (M[i][j]%2)==1:\n",
    "                Q[i][j]=math.sin(math.pi/M[i][j])\n",
    "            else:\n",
    "                Q[i][j]=math.cos(math.pi/M[i][j])\n",
    "    return[Q]\n",
    "print(my_trig_odd_even([[3,4],[6,7]]))"
   ]
  },
  {
   "cell_type": "code",
   "execution_count": null,
   "id": "2cd60692-b351-405c-a3c7-c188eed8db07",
   "metadata": {},
   "outputs": [],
   "source": []
  }
 ],
 "metadata": {
  "kernelspec": {
   "display_name": "Python 3 (ipykernel)",
   "language": "python",
   "name": "python3"
  },
  "language_info": {
   "codemirror_mode": {
    "name": "ipython",
    "version": 3
   },
   "file_extension": ".py",
   "mimetype": "text/x-python",
   "name": "python",
   "nbconvert_exporter": "python",
   "pygments_lexer": "ipython3",
   "version": "3.9.5"
  }
 },
 "nbformat": 4,
 "nbformat_minor": 5
}
