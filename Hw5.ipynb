{
 "cells": [
  {
   "cell_type": "markdown",
   "id": "db96441f-5150-4560-bcbb-b091594dc7cb",
   "metadata": {},
   "source": [
    "# Homework 5"
   ]
  },
  {
   "cell_type": "markdown",
   "id": "bf38316d-5c57-4178-8ad4-5640e8c3e0df",
   "metadata": {},
   "source": [
    "## Problem 1"
   ]
  },
  {
   "cell_type": "code",
   "execution_count": 5,
   "id": "24789e48-8526-4380-bccf-7be02789e804",
   "metadata": {},
   "outputs": [
    {
     "name": "stdout",
     "output_type": "stream",
     "text": [
      "i \t f_n \t\t e_t\n",
      "i=1 \t f_1=0.0 \t\t true_err=1.0\n",
      "i=2 \t f_2=0.2617993877991494 \t\t true_err=0.011515159927462547\n",
      "i=3 \t f_3=0.2617993877991494 \t\t true_err=0.011515159927462547\n",
      "i=4 \t f_4=0.2588088132736575 \t\t true_err=3.95327509966454e-05\n",
      "i=5 \t f_5=0.2588088132736575 \t\t true_err=3.95327509966454e-05\n",
      "i=6 \t f_6=0.2588190618109834 \t\t true_err=6.455654243825927e-08\n",
      "i=7 \t f_7=0.2588190618109834 \t\t true_err=6.455654243825927e-08\n",
      "i=8 \t f_8=0.2588190450866102 \t\t true_err=6.147364715162117e-11\n",
      "╒═════╤══════════╤════════════╕\n",
      "│   i │        f │   true err │\n",
      "╞═════╪══════════╪════════════╡\n",
      "│   1 │ 0        │   1        │\n",
      "├─────┼──────────┼────────────┤\n",
      "│   2 │ 0.261799 │   0.0115   │\n",
      "├─────┼──────────┼────────────┤\n",
      "│   3 │ 0.261799 │   0.0115   │\n",
      "├─────┼──────────┼────────────┤\n",
      "│   4 │ 0.258809 │   3.95e-05 │\n",
      "├─────┼──────────┼────────────┤\n",
      "│   5 │ 0.258809 │   3.95e-05 │\n",
      "├─────┼──────────┼────────────┤\n",
      "│   6 │ 0.258819 │   6.46e-08 │\n",
      "├─────┼──────────┼────────────┤\n",
      "│   7 │ 0.258819 │   6.46e-08 │\n",
      "├─────┼──────────┼────────────┤\n",
      "│   8 │ 0.258819 │   6.15e-11 │\n",
      "╘═════╧══════════╧════════════╛\n"
     ]
    }
   ],
   "source": [
    "from math import *\n",
    "from tabulate import tabulate\n",
    "\n",
    "def fprime(x,k):\n",
    "    if k == 0:\n",
    "        return sin(x)\n",
    "    if k == 1:\n",
    "        return cos(x)\n",
    "    if k == 2:\n",
    "        return -sin(x)\n",
    "    if k == 3:\n",
    "        return -cos(x)\n",
    "\n",
    "def main():\n",
    "    #here we are going to implement a loop that proceeds until the absolute error drops below a stopping criterion\n",
    "    x0 = 0.0                      #base-point for expansion\n",
    "    x = pi/12                        #where we want sin(x) eval\n",
    "    h = x - x0\n",
    "    fapprx = 0.0                      #this is the function value we are calculating\n",
    "    ftrue = sin(x)                  #set ftrue here -- it will not change\n",
    "    err_stop = 1.0e-8                 #this is what is called the stopping criterion\n",
    "    true_err = 1.1*err_stop         #initially make sure rel_err is defined to be more than the err_stop\n",
    "    max_iter = 100                  #set a max number of iterations\n",
    "    f_string = \"f\"\n",
    "    i_string = \"i\"\n",
    "    true_err_string = \"true err\"\n",
    "    table = [[i_string,f_string,true_err_string]]\n",
    "    print(f\"i \\t f_n \\t\\t e_t\")\n",
    "    for i in range(0,max_iter):     #for loop that will execute max_iter times unless there is a 'break'\n",
    "        k = (i+4)%4                     #this gives us an index we can use to figure out fprime\n",
    "        #Taylor series = sum f^i(x0)*h^i/i!\n",
    "        fapprx+=fprime(x0,k)*h**i/factorial(i)        \n",
    "        true_err = abs((ftrue-fapprx)/ftrue)      #calc true_err\n",
    "        if true_err <= err_stop:         #is rel_err less than the err_stop\n",
    "            table.append([i + 1, f\"{fapprx:.15e}\", f\"{true_err:.2e}\"])\n",
    "            print(f\"i={i+1} \\t f_{i+1}={fapprx} \\t\\t true_err={true_err}\")\n",
    "            break                       #if it is less then stop iterating\n",
    "        print(f\"i={i+1} \\t f_{i+1}={fapprx} \\t\\t true_err={true_err}\")\n",
    "        table.append([i + 1, f\"{fapprx:.15e}\", f\"{true_err:.2e}\"])\n",
    "        \n",
    "    print(tabulate(table,tablefmt=\"fancy_grid\", headers=\"firstrow\"))\n",
    "\n",
    "        \n",
    "if __name__ == '__main__':\n",
    "    main()"
   ]
  },
  {
   "cell_type": "markdown",
   "id": "dfbd337d-b456-4ac1-a90b-ca4483dedbd3",
   "metadata": {},
   "source": [
    "## Problem 2"
   ]
  },
  {
   "cell_type": "code",
   "execution_count": 1,
   "id": "7db7f509-67c4-49e5-808c-789fa301be83",
   "metadata": {},
   "outputs": [
    {
     "name": "stdin",
     "output_type": "stream",
     "text": [
      "Enter x0: 0.0\n",
      "Enter x: 4.0\n"
     ]
    },
    {
     "name": "stdout",
     "output_type": "stream",
     "text": [
      "e^x= 54.59815003305857\n"
     ]
    }
   ],
   "source": [
    "import math\n",
    "def my_exponential(x):\n",
    "    sum=0.0\n",
    "    n=0\n",
    "    while math.exp(x)-sum>0.0000000001:\n",
    "        sum+=(x**n)/math.factorial(n)\n",
    "        n+=1\n",
    "    return sum\n",
    "\n",
    "x0=float(input(\"Enter x0:\"))\n",
    "x=float(input(\"Enter x:\"))\n",
    "print(\"e^x=\",my_exponential(x-x0))"
   ]
  },
  {
   "cell_type": "markdown",
   "id": "08c7bf5e-143c-4923-b234-65f6b0d5a168",
   "metadata": {},
   "source": [
    "## Problem 3"
   ]
  },
  {
   "cell_type": "code",
   "execution_count": 2,
   "id": "6f2d69cb-894d-442f-a018-469f85efcbab",
   "metadata": {},
   "outputs": [
    {
     "name": "stderr",
     "output_type": "stream",
     "text": [
      "/tmp/ipykernel_1592/2344874674.py:7: DeprecationWarning: Using factorial() with floats is deprecated\n",
      "  sum+=(x**n)/math.factorial(n)\n"
     ]
    }
   ],
   "source": [
    "import math\n",
    "import matplotlib.pyplot as plt\n",
    "def exponential_terms(x):\n",
    "    sum=0.0\n",
    "    n=0.0\n",
    "    while math.exp(x) - sum>0.0000000001:\n",
    "        sum+=(x**n)/math.factorial(n)\n",
    "        n+=1\n",
    "    return n\n",
    "list_of_x0= [0.0,0.5,1.5,2.0,2.5,3.0,3.5]\n",
    "x=4.0\n",
    "\n",
    "list_of_terms=[exponential_terms(x-i) for i in list_of_x0]\n",
    "list_of_h=[x-i for i in list_of_x0]\n",
    "\n",
    "plt.plot(list_of_terms,list_of_h,'g')\n",
    "\n",
    "plt.xlabel(\"N\")\n",
    "plt.ylabel(\"h(x-x0)\")\n",
    "plt.show()\n"
   ]
  },
  {
   "cell_type": "code",
   "execution_count": null,
   "id": "2b6846d2-ebd9-43d7-9c43-17ac6f8da5b0",
   "metadata": {},
   "outputs": [],
   "source": []
  }
 ],
 "metadata": {
  "kernelspec": {
   "display_name": "Python 3 (ipykernel)",
   "language": "python",
   "name": "python3"
  },
  "language_info": {
   "codemirror_mode": {
    "name": "ipython",
    "version": 3
   },
   "file_extension": ".py",
   "mimetype": "text/x-python",
   "name": "python",
   "nbconvert_exporter": "python",
   "pygments_lexer": "ipython3",
   "version": "3.9.5"
  }
 },
 "nbformat": 4,
 "nbformat_minor": 5
}
