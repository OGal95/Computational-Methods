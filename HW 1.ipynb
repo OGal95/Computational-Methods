{
 "cells": [
  {
   "cell_type": "markdown",
   "id": "24e8b8ca-685a-49e9-82ff-74509d39b7f5",
   "metadata": {},
   "source": [
    "# Exercise_1"
   ]
  },
  {
   "cell_type": "markdown",
   "id": "035b3c66-405f-4e66-9faf-8b9c062a19ed",
   "metadata": {},
   "source": [
    "## Problem 5"
   ]
  },
  {
   "cell_type": "code",
   "execution_count": 21,
   "id": "3e84d655-f8f6-4517-ad30-607d74e89ca9",
   "metadata": {},
   "outputs": [
    {
     "name": "stdout",
     "output_type": "stream",
     "text": [
      "The Area of the Triangle is\n",
      "60.0\n"
     ]
    }
   ],
   "source": [
    "print(\"The Area of the Triangle is\")\n",
    "A = 0.5*10*12\n",
    "print(A)\n"
   ]
  },
  {
   "cell_type": "markdown",
   "id": "6bcd1c09-0ae5-43c8-add5-2782590aca74",
   "metadata": {},
   "source": [
    "## Problem 6"
   ]
  },
  {
   "cell_type": "code",
   "execution_count": 10,
   "id": "5ef8895a-d759-47fc-b106-73b7a5022a25",
   "metadata": {},
   "outputs": [
    {
     "name": "stdout",
     "output_type": "stream",
     "text": [
      "Surface Area of the cylinder is\n",
      "251.32741228718345\n"
     ]
    }
   ],
   "source": [
    "import math\n",
    "SA=(2*(math.pi)*5*3)+((math.pi)*2*(5*5))\n",
    "print(\"Surface Area of the cylinder is\")\n",
    "print(SA)\n"
   ]
  },
  {
   "cell_type": "code",
   "execution_count": 11,
   "id": "df2842d8-2da3-4972-b36f-71117920a1de",
   "metadata": {},
   "outputs": [
    {
     "name": "stdout",
     "output_type": "stream",
     "text": [
      "The Volume of the cylinder is\n",
      "235.61944901923448\n"
     ]
    }
   ],
   "source": [
    "import math\n",
    "print(\"The Volume of the cylinder is\")\n",
    "V= (math.pi)*(5*5)*3\n",
    "print(V)"
   ]
  },
  {
   "cell_type": "markdown",
   "id": "5b9f4d1c-65ce-4aaa-b1f5-38ccb24c284e",
   "metadata": {},
   "source": [
    "## Problem 7"
   ]
  },
  {
   "cell_type": "code",
   "execution_count": 12,
   "id": "5a566129-75ec-4d25-bdfa-917a1baee5e7",
   "metadata": {},
   "outputs": [
    {
     "name": "stdout",
     "output_type": "stream",
     "text": [
      "the slope of two point A & B is\n",
      "2.5\n"
     ]
    }
   ],
   "source": [
    "PointA: (3,4)\n",
    "PointB: (5,9)\n",
    "print('the slope of two point A & B is')\n",
    "print((9-4)/(5-3))\n"
   ]
  },
  {
   "cell_type": "markdown",
   "id": "211f314e-d502-4892-b61f-1ee9ecb833bf",
   "metadata": {},
   "source": [
    "## Problem 8"
   ]
  },
  {
   "cell_type": "code",
   "execution_count": 13,
   "id": "714443c8-b856-4937-86ca-950d406f4b77",
   "metadata": {},
   "outputs": [
    {
     "name": "stdout",
     "output_type": "stream",
     "text": [
      "5.385164807134504\n"
     ]
    }
   ],
   "source": [
    "print(math.sqrt((5-3)**2+(9-4)**2))"
   ]
  },
  {
   "cell_type": "markdown",
   "id": "8672beb1-8653-453e-a6b5-960977d6791e",
   "metadata": {},
   "source": [
    "## Problem  9"
   ]
  },
  {
   "cell_type": "code",
   "execution_count": 18,
   "id": "1f601a7b-4620-4950-9871-01d3cb98a8da",
   "metadata": {},
   "outputs": [
    {
     "name": "stdout",
     "output_type": "stream",
     "text": [
      "The factorial of 6 is\n"
     ]
    },
    {
     "data": {
      "text/plain": [
       "720"
      ]
     },
     "execution_count": 18,
     "metadata": {},
     "output_type": "execute_result"
    }
   ],
   "source": [
    "print(\"The factorial of 6 is\")\n",
    "import math\n",
    "math.factorial(6)"
   ]
  },
  {
   "cell_type": "markdown",
   "id": "1713f27a-5eab-40c6-8fea-8817eeb1ee97",
   "metadata": {},
   "source": [
    "## Problem 10"
   ]
  },
  {
   "cell_type": "code",
   "execution_count": 30,
   "id": "2b5b2c44-3227-4f6b-bddc-b21f8dc1b549",
   "metadata": {},
   "outputs": [
    {
     "name": "stdout",
     "output_type": "stream",
     "text": [
      "Leap years from 1500 to 2010 are\n",
      "127.0\n"
     ]
    }
   ],
   "source": [
    "print('Leap years from 1500 to 2010 are')\n",
    "x= (2008-1500)/4               # 2008 was the last leap year before 2010. Following Leap year would of been in 2012 and it would not count in the range of 1500-2010.\n",
    "print(x)"
   ]
  },
  {
   "cell_type": "markdown",
   "id": "f17d8e6a-d06e-448d-97fc-8d7038875b86",
   "metadata": {},
   "source": [
    "## Problem 11"
   ]
  },
  {
   "cell_type": "code",
   "execution_count": null,
   "id": "684f8259-1aef-47b5-bb38-e825a6c53c28",
   "metadata": {},
   "outputs": [],
   "source": [
    "????\n"
   ]
  },
  {
   "cell_type": "markdown",
   "id": "113a1815-f0b8-4f2f-bf68-25e0f7a37a6e",
   "metadata": {},
   "source": [
    "## Problem 12"
   ]
  },
  {
   "cell_type": "code",
   "execution_count": 33,
   "id": "6419d5c8-fba3-4a7a-a765-add5b45bbb28",
   "metadata": {},
   "outputs": [
    {
     "name": "stdout",
     "output_type": "stream",
     "text": [
      "3.626860407847019\n",
      "7.321388457312344\n"
     ]
    }
   ],
   "source": [
    "import math\n",
    "x=((math.exp(2))-(math.exp(-2))/2)\n",
    "math.sinh(2)\n",
    "print(math.sinh(2))\n",
    "print(x)"
   ]
  },
  {
   "cell_type": "markdown",
   "id": "238024fe-309f-4e5f-98d3-8e2a70a94964",
   "metadata": {},
   "source": [
    "## Problem 13"
   ]
  },
  {
   "cell_type": "code",
   "execution_count": 12,
   "id": "3e4bcef2-2dbd-4428-a9ae-d25ca2e74ecf",
   "metadata": {},
   "outputs": [
    {
     "name": "stdout",
     "output_type": "stream",
     "text": [
      "1.0\n",
      "1.0\n",
      "1.0\n",
      "1.0\n"
     ]
    }
   ],
   "source": [
    "import math\n",
    "x=math.pi\n",
    "x1=math.pi/2\n",
    "x2=math.pi/4\n",
    "x3=math.pi/6\n",
    "print(math.sin(x)**2+math.cos(x)**2)                \n",
    "print(math.sin(x1)**2+math.cos(x1)**2)\n",
    "print(math.sin(x2)**2+math.cos(x2)**2)\n",
    "print(math.sin(x3)**2+math.cos(x3)**2)"
   ]
  },
  {
   "cell_type": "markdown",
   "id": "677a9e6e-57a9-4f18-a2ed-bab2ff9903e0",
   "metadata": {},
   "source": [
    "## Problem 14"
   ]
  },
  {
   "cell_type": "code",
   "execution_count": 13,
   "id": "bac17a48-891e-43f5-b7fc-1eb982f211e4",
   "metadata": {},
   "outputs": [
    {
     "data": {
      "text/plain": [
       "-0.8218178366308225"
      ]
     },
     "execution_count": 13,
     "metadata": {},
     "output_type": "execute_result"
    }
   ],
   "source": [
    "import math\n",
    "math.sin(87)"
   ]
  },
  {
   "cell_type": "markdown",
   "id": "4149178b-fe59-4a6a-bc00-623646d81d06",
   "metadata": {},
   "source": [
    "## Problem 23"
   ]
  },
  {
   "cell_type": "code",
   "execution_count": 20,
   "id": "e7b872f3-584f-4d93-896f-10ef7bfef206",
   "metadata": {},
   "outputs": [
    {
     "ename": "SyntaxError",
     "evalue": "unexpected EOF while parsing (1949009083.py, line 2)",
     "output_type": "error",
     "traceback": [
      "\u001b[0;36m  File \u001b[0;32m\"/tmp/ipykernel_8110/1949009083.py\"\u001b[0;36m, line \u001b[0;32m2\u001b[0m\n\u001b[0;31m    print((math.exp(2))*(math.sin(math.pi/6))+(math.log(3,math.exp)*(math.cos(math.pi/9)-5**3))\u001b[0m\n\u001b[0m                                                                                               ^\u001b[0m\n\u001b[0;31mSyntaxError\u001b[0m\u001b[0;31m:\u001b[0m unexpected EOF while parsing\n"
     ]
    }
   ],
   "source": [
    "import math\n",
    "print((math.exp(2))*(math.sin(math.pi/6))+(math.log(3,math.exp)*(math.cos(math.pi/9)-5**3))"
   ]
  },
  {
   "cell_type": "code",
   "execution_count": null,
   "id": "1b78390d-8343-4bc1-9b4c-084b569e3977",
   "metadata": {},
   "outputs": [],
   "source": []
  }
 ],
 "metadata": {
  "kernelspec": {
   "display_name": "Python 3 (ipykernel)",
   "language": "python",
   "name": "python3"
  },
  "language_info": {
   "codemirror_mode": {
    "name": "ipython",
    "version": 3
   },
   "file_extension": ".py",
   "mimetype": "text/x-python",
   "name": "python",
   "nbconvert_exporter": "python",
   "pygments_lexer": "ipython3",
   "version": "3.9.5"
  }
 },
 "nbformat": 4,
 "nbformat_minor": 5
}
